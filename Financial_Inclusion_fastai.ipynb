{
  "cells": [
    {
      "cell_type": "markdown",
      "metadata": {
        "id": "view-in-github",
        "colab_type": "text"
      },
      "source": [
        "<a href=\"https://colab.research.google.com/github/tiwaomotosho/hackathons/blob/main/Financial_Inclusion_fastai.ipynb\" target=\"_parent\"><img src=\"https://colab.research.google.com/assets/colab-badge.svg\" alt=\"Open In Colab\"/></a>"
      ]
    },
    {
      "cell_type": "markdown",
      "id": "d435f4aa-502a-4421-accd-24407fb72386",
      "metadata": {
        "id": "d435f4aa-502a-4421-accd-24407fb72386"
      },
      "source": [
        "### Background and Context\n",
        "\n",
        "Financial inclusion remains one of the main obstacles to economic and human development in Africa. For example, across Kenya, Rwanda, Tanzania, and Uganda only 9.1 million adults (or 14% of adults) have access to or use a commercial bank account.\n",
        "\n",
        "Traditionally, access to bank accounts has been regarded as an indicator of financial inclusion. Despite the proliferation of mobile money in Africa, and the growth of innovative fintech solutions, banks still play a pivotal role in facilitating access to financial services. Access to bank accounts enable households to save and make payments while also helping businesses build up their credit-worthiness and improve their access to loans, insurance, and related services. Therefore, access to bank accounts is an essential contributor to long-term economic growth.\n",
        "\n",
        "### Objective\n",
        "\n",
        "* The objective of this competition is to create a machine learning model to predict which individuals are most likely to have or use a bank account.\n",
        "* The models and solutions developed can provide an indication of the state of financial inclusion in Kenya, Rwanda, Tanzania and Uganda, while providing insights into some of the key factors driving individuals’ financial security.\n",
        "\n",
        "#### Data Dictionary\n",
        "\n",
        "* country - Country interviewee is in.\n",
        "* year - Year survey was done in.\n",
        "* uniqueid - Unique identifier for each interviewee\n",
        "* bank_account - Interviewee has Bank Account\n",
        "* location_type - Type of location: Rural, Urban\n",
        "* cellphone_access - If interviewee has access to a cellphone: Yes, No\n",
        "* household_size - Number of people living in one house\n",
        "* age_of_respondent - The age of the interviewee\n",
        "* gender_of_respondent - Gender of interviewee: Male, Female\n",
        "* relationship_with_head - The interviewee's relationship with the head of the house:Head of Household, Spouse, Child, Parent, Other relative, Other non-relatives, Dont know\n",
        "* marital_status - The martial status of the interviewee: Married/Living together, Divorced/Seperated, Widowed, Single/Never Married, Don't know\n",
        "* education_level - Highest level of education: No formal education, Primary education, Secondary education, Vocational/Specialised training, Tertiary education, Other/Dont know/RTA\n",
        "* job_type - Type of job interviewee has: Farming and Fishing, Self employed, Formally employed Government, Formally employed Private, Informally employed, Remittance Dependent, Government Dependent, Other Income, No Income, Dont Know/Refuse to answer"
      ]
    },
    {
      "cell_type": "markdown",
      "id": "ded579b1-4089-401e-92dd-2e768108137c",
      "metadata": {
        "id": "ded579b1-4089-401e-92dd-2e768108137c"
      },
      "source": [
        "## Overview of the dataset"
      ]
    },
    {
      "cell_type": "markdown",
      "id": "cc567525-9b61-40a0-91ac-a21a542852f0",
      "metadata": {
        "id": "cc567525-9b61-40a0-91ac-a21a542852f0"
      },
      "source": [
        "**Let's start by importing libraries we need.**"
      ]
    },
    {
      "cell_type": "code",
      "execution_count": null,
      "id": "14c09a15-dc52-459a-b28b-fa23ac15a780",
      "metadata": {
        "id": "14c09a15-dc52-459a-b28b-fa23ac15a780"
      },
      "outputs": [],
      "source": [
        "import warnings\n",
        "warnings.filterwarnings(\"ignore\")\n",
        "import numpy as np\n",
        "import pandas as pd\n",
        "import seaborn as sns\n",
        "import matplotlib.pyplot as plt\n",
        "from sklearn import metrics\n",
        "from sklearn.tree import DecisionTreeClassifier\n",
        "from sklearn.model_selection import train_test_split\n",
        "from sklearn.metrics import confusion_matrix, classification_report\n",
        "from sklearn.metrics import accuracy_score,precision_score,recall_score,f1_score\n",
        "import scipy.stats as stats\n",
        "from sklearn import tree\n",
        "from sklearn.model_selection import GridSearchCV, RandomizedSearchCV\n",
        "from sklearn.ensemble import BaggingClassifier\n",
        "from sklearn.ensemble import RandomForestClassifier\n",
        "from sklearn.ensemble import StackingClassifier\n",
        "from sklearn.metrics import roc_auc_score\n",
        "from sklearn.linear_model import LogisticRegression\n",
        "from sklearn.ensemble import AdaBoostClassifier, GradientBoostingClassifier\n",
        "\n",
        "#To install xgboost library use - !pip install xgboost\n",
        "from xgboost import XGBClassifier\n",
        "\n",
        "from datetime import datetime\n",
        "\n",
        "# To impute missing values\n",
        "from sklearn.impute import KNNImputer, SimpleImputer\n",
        "\n",
        "# To build a logistic regression model\n",
        "from sklearn.linear_model import LogisticRegression\n",
        "\n",
        "# To oversample and undersample data\n",
        "from imblearn.over_sampling import SMOTE\n",
        "from imblearn.under_sampling import RandomUnderSampler\n",
        "\n",
        "# To tune model, get different metric scores and split data\n",
        "from sklearn.model_selection import train_test_split, StratifiedKFold, cross_val_score\n",
        "from sklearn.metrics import (\n",
        "    f1_score,\n",
        "    accuracy_score,\n",
        "    recall_score,\n",
        "    precision_score,\n",
        "    confusion_matrix,\n",
        "    roc_auc_score,\n",
        "    plot_confusion_matrix,\n",
        ")\n",
        "\n",
        "# To be used for data scaling and one hot encoding\n",
        "from sklearn.preprocessing import StandardScaler, MinMaxScaler, OneHotEncoder\n",
        "\n",
        "from skopt import BayesSearchCV\n",
        "from skopt.space import Real, Integer, Categorical\n",
        "from skopt.plots import plot_objective, plot_histogram\n",
        "from skopt.utils import use_named_args\n",
        "from skopt.plots import plot_evaluations\n",
        "from skopt import gp_minimize\n",
        "from skopt.plots import plot_convergence\n",
        "\n",
        "# This will help in making the Python code more structured automatically (good coding practice)\n",
        "#%load_ext nb_black\n",
        "\n",
        "# To be used for creating pipelines and personalizing them\n",
        "from sklearn.pipeline import Pipeline\n",
        "from sklearn.compose import ColumnTransformer\n",
        "\n",
        "# Removes the limit for the number of displayed columns\n",
        "pd.set_option(\"display.max_columns\", None)\n",
        "# Sets the limit for the number of displayed rows\n",
        "pd.set_option(\"display.max_rows\", 200)\n",
        "# Coerce printing of floats in 2 d.p\n",
        "pd.options.display.float_format = '{:,.3f}'.format"
      ]
    },
    {
      "cell_type": "code",
      "execution_count": null,
      "id": "fb575482-3ff3-4088-9992-7384bef97237",
      "metadata": {
        "id": "fb575482-3ff3-4088-9992-7384bef97237"
      },
      "outputs": [],
      "source": [
        "#Loading dataset\n",
        "data_init = pd.read_csv('account_train.csv')\n",
        "test = pd.read_csv('account_test.csv')\n",
        "\n",
        "# Create copy\n",
        "data = data_init.copy()"
      ]
    },
    {
      "cell_type": "markdown",
      "id": "f9b24c5c-cc2b-4a60-a077-cca80a91bbfe",
      "metadata": {
        "id": "f9b24c5c-cc2b-4a60-a077-cca80a91bbfe"
      },
      "source": [
        "**View the first 5 rows of the dataset.**"
      ]
    },
    {
      "cell_type": "code",
      "execution_count": null,
      "id": "01ea9e81-ef44-43e2-9370-0ad6dde93939",
      "metadata": {
        "colab": {
          "base_uri": "https://localhost:8080/",
          "height": 531
        },
        "id": "01ea9e81-ef44-43e2-9370-0ad6dde93939",
        "outputId": "a805f3e6-8da4-473f-9212-9fc1e7f044cf"
      },
      "outputs": [
        {
          "output_type": "execute_result",
          "data": {
            "text/plain": [
              "                                  AccID  CategoryID     Category    Value  \\\n",
              "0  c8f5a7fa-4b2b-470f-8ad5-1c367a3c934a           1  Residential  2674700   \n",
              "1  95daa45d-3dfd-4c60-aae4-05e78b0de26e           1  Residential    36000   \n",
              "2  40536c2d-c0a2-4486-b0aa-60b36dfa290a           1  Residential   700000   \n",
              "3  52a2254d-44e5-4dc9-8e08-1b135096172c           5    Municipal    40000   \n",
              "4  1e0363e4-2029-4b62-a9ec-d909cee000cb           1  Residential   125800   \n",
              "\n",
              "   PropertySize  BillingAmt  AverageBillingAmt  CollectedAmt  \\\n",
              "0           585       43717                729         43416   \n",
              "1           315         378                  3           522   \n",
              "2           528       25150                345         25104   \n",
              "3             0        4773                133             0   \n",
              "4             0          -4                  0           445   \n",
              "\n",
              "   AverageCollectedAmt  DebtAmt  WriteOffAmt  CollectionRatio  \\\n",
              "0                 4342        0            0            0.990   \n",
              "1                  522        0            0            1.380   \n",
              "2                  349        0            0            1.000   \n",
              "3                    0     7319            0            0.000   \n",
              "4                  445        0            0         -121.260   \n",
              "\n",
              "   DebtBillingRatio  TotalElectricityBill  HasID  Label  \n",
              "0             0.000                     0      0      0  \n",
              "1             0.000                     0      0      0  \n",
              "2             0.000                 10715      1      0  \n",
              "3             1.530                     0      1      1  \n",
              "4             0.000                     0      0      0  "
            ],
            "text/html": [
              "\n",
              "  <div id=\"df-6087f358-2ea0-4a1c-89e3-e8eaedbe963f\">\n",
              "    <div class=\"colab-df-container\">\n",
              "      <div>\n",
              "<style scoped>\n",
              "    .dataframe tbody tr th:only-of-type {\n",
              "        vertical-align: middle;\n",
              "    }\n",
              "\n",
              "    .dataframe tbody tr th {\n",
              "        vertical-align: top;\n",
              "    }\n",
              "\n",
              "    .dataframe thead th {\n",
              "        text-align: right;\n",
              "    }\n",
              "</style>\n",
              "<table border=\"1\" class=\"dataframe\">\n",
              "  <thead>\n",
              "    <tr style=\"text-align: right;\">\n",
              "      <th></th>\n",
              "      <th>AccID</th>\n",
              "      <th>CategoryID</th>\n",
              "      <th>Category</th>\n",
              "      <th>Value</th>\n",
              "      <th>PropertySize</th>\n",
              "      <th>BillingAmt</th>\n",
              "      <th>AverageBillingAmt</th>\n",
              "      <th>CollectedAmt</th>\n",
              "      <th>AverageCollectedAmt</th>\n",
              "      <th>DebtAmt</th>\n",
              "      <th>WriteOffAmt</th>\n",
              "      <th>CollectionRatio</th>\n",
              "      <th>DebtBillingRatio</th>\n",
              "      <th>TotalElectricityBill</th>\n",
              "      <th>HasID</th>\n",
              "      <th>Label</th>\n",
              "    </tr>\n",
              "  </thead>\n",
              "  <tbody>\n",
              "    <tr>\n",
              "      <th>0</th>\n",
              "      <td>c8f5a7fa-4b2b-470f-8ad5-1c367a3c934a</td>\n",
              "      <td>1</td>\n",
              "      <td>Residential</td>\n",
              "      <td>2674700</td>\n",
              "      <td>585</td>\n",
              "      <td>43717</td>\n",
              "      <td>729</td>\n",
              "      <td>43416</td>\n",
              "      <td>4342</td>\n",
              "      <td>0</td>\n",
              "      <td>0</td>\n",
              "      <td>0.990</td>\n",
              "      <td>0.000</td>\n",
              "      <td>0</td>\n",
              "      <td>0</td>\n",
              "      <td>0</td>\n",
              "    </tr>\n",
              "    <tr>\n",
              "      <th>1</th>\n",
              "      <td>95daa45d-3dfd-4c60-aae4-05e78b0de26e</td>\n",
              "      <td>1</td>\n",
              "      <td>Residential</td>\n",
              "      <td>36000</td>\n",
              "      <td>315</td>\n",
              "      <td>378</td>\n",
              "      <td>3</td>\n",
              "      <td>522</td>\n",
              "      <td>522</td>\n",
              "      <td>0</td>\n",
              "      <td>0</td>\n",
              "      <td>1.380</td>\n",
              "      <td>0.000</td>\n",
              "      <td>0</td>\n",
              "      <td>0</td>\n",
              "      <td>0</td>\n",
              "    </tr>\n",
              "    <tr>\n",
              "      <th>2</th>\n",
              "      <td>40536c2d-c0a2-4486-b0aa-60b36dfa290a</td>\n",
              "      <td>1</td>\n",
              "      <td>Residential</td>\n",
              "      <td>700000</td>\n",
              "      <td>528</td>\n",
              "      <td>25150</td>\n",
              "      <td>345</td>\n",
              "      <td>25104</td>\n",
              "      <td>349</td>\n",
              "      <td>0</td>\n",
              "      <td>0</td>\n",
              "      <td>1.000</td>\n",
              "      <td>0.000</td>\n",
              "      <td>10715</td>\n",
              "      <td>1</td>\n",
              "      <td>0</td>\n",
              "    </tr>\n",
              "    <tr>\n",
              "      <th>3</th>\n",
              "      <td>52a2254d-44e5-4dc9-8e08-1b135096172c</td>\n",
              "      <td>5</td>\n",
              "      <td>Municipal</td>\n",
              "      <td>40000</td>\n",
              "      <td>0</td>\n",
              "      <td>4773</td>\n",
              "      <td>133</td>\n",
              "      <td>0</td>\n",
              "      <td>0</td>\n",
              "      <td>7319</td>\n",
              "      <td>0</td>\n",
              "      <td>0.000</td>\n",
              "      <td>1.530</td>\n",
              "      <td>0</td>\n",
              "      <td>1</td>\n",
              "      <td>1</td>\n",
              "    </tr>\n",
              "    <tr>\n",
              "      <th>4</th>\n",
              "      <td>1e0363e4-2029-4b62-a9ec-d909cee000cb</td>\n",
              "      <td>1</td>\n",
              "      <td>Residential</td>\n",
              "      <td>125800</td>\n",
              "      <td>0</td>\n",
              "      <td>-4</td>\n",
              "      <td>0</td>\n",
              "      <td>445</td>\n",
              "      <td>445</td>\n",
              "      <td>0</td>\n",
              "      <td>0</td>\n",
              "      <td>-121.260</td>\n",
              "      <td>0.000</td>\n",
              "      <td>0</td>\n",
              "      <td>0</td>\n",
              "      <td>0</td>\n",
              "    </tr>\n",
              "  </tbody>\n",
              "</table>\n",
              "</div>\n",
              "      <button class=\"colab-df-convert\" onclick=\"convertToInteractive('df-6087f358-2ea0-4a1c-89e3-e8eaedbe963f')\"\n",
              "              title=\"Convert this dataframe to an interactive table.\"\n",
              "              style=\"display:none;\">\n",
              "        \n",
              "  <svg xmlns=\"http://www.w3.org/2000/svg\" height=\"24px\"viewBox=\"0 0 24 24\"\n",
              "       width=\"24px\">\n",
              "    <path d=\"M0 0h24v24H0V0z\" fill=\"none\"/>\n",
              "    <path d=\"M18.56 5.44l.94 2.06.94-2.06 2.06-.94-2.06-.94-.94-2.06-.94 2.06-2.06.94zm-11 1L8.5 8.5l.94-2.06 2.06-.94-2.06-.94L8.5 2.5l-.94 2.06-2.06.94zm10 10l.94 2.06.94-2.06 2.06-.94-2.06-.94-.94-2.06-.94 2.06-2.06.94z\"/><path d=\"M17.41 7.96l-1.37-1.37c-.4-.4-.92-.59-1.43-.59-.52 0-1.04.2-1.43.59L10.3 9.45l-7.72 7.72c-.78.78-.78 2.05 0 2.83L4 21.41c.39.39.9.59 1.41.59.51 0 1.02-.2 1.41-.59l7.78-7.78 2.81-2.81c.8-.78.8-2.07 0-2.86zM5.41 20L4 18.59l7.72-7.72 1.47 1.35L5.41 20z\"/>\n",
              "  </svg>\n",
              "      </button>\n",
              "      \n",
              "  <style>\n",
              "    .colab-df-container {\n",
              "      display:flex;\n",
              "      flex-wrap:wrap;\n",
              "      gap: 12px;\n",
              "    }\n",
              "\n",
              "    .colab-df-convert {\n",
              "      background-color: #E8F0FE;\n",
              "      border: none;\n",
              "      border-radius: 50%;\n",
              "      cursor: pointer;\n",
              "      display: none;\n",
              "      fill: #1967D2;\n",
              "      height: 32px;\n",
              "      padding: 0 0 0 0;\n",
              "      width: 32px;\n",
              "    }\n",
              "\n",
              "    .colab-df-convert:hover {\n",
              "      background-color: #E2EBFA;\n",
              "      box-shadow: 0px 1px 2px rgba(60, 64, 67, 0.3), 0px 1px 3px 1px rgba(60, 64, 67, 0.15);\n",
              "      fill: #174EA6;\n",
              "    }\n",
              "\n",
              "    [theme=dark] .colab-df-convert {\n",
              "      background-color: #3B4455;\n",
              "      fill: #D2E3FC;\n",
              "    }\n",
              "\n",
              "    [theme=dark] .colab-df-convert:hover {\n",
              "      background-color: #434B5C;\n",
              "      box-shadow: 0px 1px 3px 1px rgba(0, 0, 0, 0.15);\n",
              "      filter: drop-shadow(0px 1px 2px rgba(0, 0, 0, 0.3));\n",
              "      fill: #FFFFFF;\n",
              "    }\n",
              "  </style>\n",
              "\n",
              "      <script>\n",
              "        const buttonEl =\n",
              "          document.querySelector('#df-6087f358-2ea0-4a1c-89e3-e8eaedbe963f button.colab-df-convert');\n",
              "        buttonEl.style.display =\n",
              "          google.colab.kernel.accessAllowed ? 'block' : 'none';\n",
              "\n",
              "        async function convertToInteractive(key) {\n",
              "          const element = document.querySelector('#df-6087f358-2ea0-4a1c-89e3-e8eaedbe963f');\n",
              "          const dataTable =\n",
              "            await google.colab.kernel.invokeFunction('convertToInteractive',\n",
              "                                                     [key], {});\n",
              "          if (!dataTable) return;\n",
              "\n",
              "          const docLinkHtml = 'Like what you see? Visit the ' +\n",
              "            '<a target=\"_blank\" href=https://colab.research.google.com/notebooks/data_table.ipynb>data table notebook</a>'\n",
              "            + ' to learn more about interactive tables.';\n",
              "          element.innerHTML = '';\n",
              "          dataTable['output_type'] = 'display_data';\n",
              "          await google.colab.output.renderOutput(dataTable, element);\n",
              "          const docLink = document.createElement('div');\n",
              "          docLink.innerHTML = docLinkHtml;\n",
              "          element.appendChild(docLink);\n",
              "        }\n",
              "      </script>\n",
              "    </div>\n",
              "  </div>\n",
              "  "
            ]
          },
          "metadata": {},
          "execution_count": 4
        }
      ],
      "source": [
        "data.head()"
      ]
    },
    {
      "cell_type": "markdown",
      "id": "d30f4f00-947d-4f54-bbfa-17666b519a0f",
      "metadata": {
        "id": "d30f4f00-947d-4f54-bbfa-17666b519a0f"
      },
      "source": [
        "**Check data types and number of non-null values for each column.**"
      ]
    },
    {
      "cell_type": "code",
      "execution_count": null,
      "id": "9c39270f-21b8-433f-b52c-2af5ec2b0d32",
      "metadata": {
        "colab": {
          "base_uri": "https://localhost:8080/"
        },
        "id": "9c39270f-21b8-433f-b52c-2af5ec2b0d32",
        "outputId": "50945cf9-287e-45fd-9d6e-87dc820c98c9"
      },
      "outputs": [
        {
          "output_type": "stream",
          "name": "stdout",
          "text": [
            "<class 'pandas.core.frame.DataFrame'>\n",
            "RangeIndex: 100476 entries, 0 to 100475\n",
            "Data columns (total 16 columns):\n",
            " #   Column                Non-Null Count   Dtype  \n",
            "---  ------                --------------   -----  \n",
            " 0   AccID                 100476 non-null  object \n",
            " 1   CategoryID            100476 non-null  int64  \n",
            " 2   Category              100476 non-null  object \n",
            " 3   Value                 100476 non-null  int64  \n",
            " 4   PropertySize          100476 non-null  int64  \n",
            " 5   BillingAmt            100476 non-null  int64  \n",
            " 6   AverageBillingAmt     100476 non-null  int64  \n",
            " 7   CollectedAmt          100476 non-null  int64  \n",
            " 8   AverageCollectedAmt   100476 non-null  int64  \n",
            " 9   DebtAmt               100476 non-null  int64  \n",
            " 10  WriteOffAmt           100476 non-null  int64  \n",
            " 11  CollectionRatio       100476 non-null  float64\n",
            " 12  DebtBillingRatio      100476 non-null  float64\n",
            " 13  TotalElectricityBill  100476 non-null  int64  \n",
            " 14  HasID                 100476 non-null  int64  \n",
            " 15  Label                 100476 non-null  int64  \n",
            "dtypes: float64(2), int64(12), object(2)\n",
            "memory usage: 12.3+ MB\n"
          ]
        }
      ],
      "source": [
        "data.info()"
      ]
    },
    {
      "cell_type": "markdown",
      "id": "94808364-422b-409c-ba46-593568c0dc8e",
      "metadata": {
        "id": "94808364-422b-409c-ba46-593568c0dc8e"
      },
      "source": [
        "- We can see that there are total of 13 columns and 23,524 rows in the dataset.\n",
        "- All columns data type is either integer or the object type.\n",
        "- There are no null values in the dataset"
      ]
    },
    {
      "cell_type": "code",
      "execution_count": null,
      "id": "7e1cb175-510d-43f2-a193-a5afb403f3cc",
      "metadata": {
        "colab": {
          "base_uri": "https://localhost:8080/"
        },
        "id": "7e1cb175-510d-43f2-a193-a5afb403f3cc",
        "outputId": "8021adbc-c579-4f5a-83ae-e93dafe5a9ed"
      },
      "outputs": [
        {
          "output_type": "execute_result",
          "data": {
            "text/plain": [
              "AccID                   0\n",
              "CategoryID              0\n",
              "Category                0\n",
              "Value                   0\n",
              "PropertySize            0\n",
              "BillingAmt              0\n",
              "AverageBillingAmt       0\n",
              "CollectedAmt            0\n",
              "AverageCollectedAmt     0\n",
              "DebtAmt                 0\n",
              "WriteOffAmt             0\n",
              "CollectionRatio         0\n",
              "DebtBillingRatio        0\n",
              "TotalElectricityBill    0\n",
              "HasID                   0\n",
              "Label                   0\n",
              "dtype: int64"
            ]
          },
          "metadata": {},
          "execution_count": 6
        }
      ],
      "source": [
        "data.isna().sum()"
      ]
    },
    {
      "cell_type": "markdown",
      "id": "462c3587-5295-46c5-b2b7-814af813a510",
      "metadata": {
        "id": "462c3587-5295-46c5-b2b7-814af813a510"
      },
      "source": [
        "- There are no missing values in the data"
      ]
    },
    {
      "cell_type": "markdown",
      "id": "91c48fc8-91e4-46d4-9491-c4470fe07f24",
      "metadata": {
        "id": "91c48fc8-91e4-46d4-9491-c4470fe07f24"
      },
      "source": [
        "**Check duplicates Count**"
      ]
    },
    {
      "cell_type": "code",
      "execution_count": null,
      "id": "398d0978-79be-4aac-8926-f334faa05c7e",
      "metadata": {
        "colab": {
          "base_uri": "https://localhost:8080/"
        },
        "id": "398d0978-79be-4aac-8926-f334faa05c7e",
        "outputId": "98301df0-46a6-4e4e-aa64-6a170c1fa7b7"
      },
      "outputs": [
        {
          "output_type": "execute_result",
          "data": {
            "text/plain": [
              "0"
            ]
          },
          "metadata": {},
          "execution_count": 7
        }
      ],
      "source": [
        "data.duplicated().sum()"
      ]
    },
    {
      "cell_type": "markdown",
      "id": "2788b732-97d7-43fe-831b-572921e820af",
      "metadata": {
        "id": "2788b732-97d7-43fe-831b-572921e820af"
      },
      "source": [
        "* Dataset contains no duplicates"
      ]
    },
    {
      "cell_type": "markdown",
      "id": "e21c35c2-83c6-4c0d-876f-79ec2c22ccf7",
      "metadata": {
        "id": "e21c35c2-83c6-4c0d-876f-79ec2c22ccf7"
      },
      "source": [
        "### Fixing the data types"
      ]
    },
    {
      "cell_type": "code",
      "execution_count": null,
      "id": "a7758587-e06b-4ae9-a09e-628e65f42162",
      "metadata": {
        "colab": {
          "base_uri": "https://localhost:8080/"
        },
        "id": "a7758587-e06b-4ae9-a09e-628e65f42162",
        "outputId": "d650caaa-f7f9-4291-bc3d-01c0320a0969"
      },
      "outputs": [
        {
          "output_type": "execute_result",
          "data": {
            "text/plain": [
              "Index(['AccID', 'Category'], dtype='object')"
            ]
          },
          "metadata": {},
          "execution_count": 8
        }
      ],
      "source": [
        "cols = data.select_dtypes(['object'])\n",
        "cols.columns"
      ]
    },
    {
      "cell_type": "code",
      "execution_count": null,
      "id": "9bde3ad4-9b14-437e-b94d-6c417163916e",
      "metadata": {
        "id": "9bde3ad4-9b14-437e-b94d-6c417163916e"
      },
      "outputs": [],
      "source": [
        "for i in cols.columns:\n",
        "    data[i] = data[i].astype('category')"
      ]
    },
    {
      "cell_type": "code",
      "execution_count": null,
      "id": "ab570f3a-5994-4c6e-b740-da5da137d73b",
      "metadata": {
        "colab": {
          "base_uri": "https://localhost:8080/"
        },
        "id": "ab570f3a-5994-4c6e-b740-da5da137d73b",
        "outputId": "9fc907c0-f6cb-4146-e546-85cad2503e13"
      },
      "outputs": [
        {
          "output_type": "stream",
          "name": "stdout",
          "text": [
            "<class 'pandas.core.frame.DataFrame'>\n",
            "RangeIndex: 100476 entries, 0 to 100475\n",
            "Data columns (total 16 columns):\n",
            " #   Column                Non-Null Count   Dtype   \n",
            "---  ------                --------------   -----   \n",
            " 0   AccID                 100476 non-null  category\n",
            " 1   CategoryID            100476 non-null  int64   \n",
            " 2   Category              100476 non-null  category\n",
            " 3   Value                 100476 non-null  int64   \n",
            " 4   PropertySize          100476 non-null  int64   \n",
            " 5   BillingAmt            100476 non-null  int64   \n",
            " 6   AverageBillingAmt     100476 non-null  int64   \n",
            " 7   CollectedAmt          100476 non-null  int64   \n",
            " 8   AverageCollectedAmt   100476 non-null  int64   \n",
            " 9   DebtAmt               100476 non-null  int64   \n",
            " 10  WriteOffAmt           100476 non-null  int64   \n",
            " 11  CollectionRatio       100476 non-null  float64 \n",
            " 12  DebtBillingRatio      100476 non-null  float64 \n",
            " 13  TotalElectricityBill  100476 non-null  int64   \n",
            " 14  HasID                 100476 non-null  int64   \n",
            " 15  Label                 100476 non-null  int64   \n",
            "dtypes: category(2), float64(2), int64(12)\n",
            "memory usage: 14.0 MB\n"
          ]
        }
      ],
      "source": [
        "data.info()"
      ]
    },
    {
      "cell_type": "markdown",
      "id": "3eecaa0a-dce4-437c-a297-5c5463ed2c0d",
      "metadata": {
        "id": "3eecaa0a-dce4-437c-a297-5c5463ed2c0d"
      },
      "source": [
        "**Summary of the dataset**"
      ]
    },
    {
      "cell_type": "code",
      "execution_count": null,
      "id": "db67b592-4aa3-4719-8bab-d9a6b11c017a",
      "metadata": {
        "colab": {
          "base_uri": "https://localhost:8080/",
          "height": 532
        },
        "id": "db67b592-4aa3-4719-8bab-d9a6b11c017a",
        "outputId": "96703cc6-febf-4d19-fbe9-9597d5dade83"
      },
      "outputs": [
        {
          "output_type": "execute_result",
          "data": {
            "text/plain": [
              "                           count        mean           std            min  \\\n",
              "CategoryID           100,476.000       2.246         2.731          1.000   \n",
              "Value                100,476.000 707,020.754 3,047,463.194          0.000   \n",
              "PropertySize         100,476.000 746,822.707 5,651,558.437          0.000   \n",
              "BillingAmt           100,476.000  10,899.514   126,234.137 -4,232,630.000   \n",
              "AverageBillingAmt    100,476.000     575.486     6,430.310    -79,384.000   \n",
              "CollectedAmt         100,476.000   9,763.645   120,144.906   -219,260.000   \n",
              "AverageCollectedAmt  100,476.000   2,044.688    36,824.866   -219,260.000   \n",
              "DebtAmt              100,476.000   9,642.500    50,030.133          0.000   \n",
              "WriteOffAmt          100,476.000     602.765    14,409.152          0.000   \n",
              "CollectionRatio      100,476.000      19.536     5,556.991   -115,000.000   \n",
              "DebtBillingRatio     100,476.000      18.633     6,274.720   -436,506.000   \n",
              "TotalElectricityBill 100,476.000   4,338.707   105,031.311   -220,289.000   \n",
              "HasID                100,476.000       0.428         0.495          0.000   \n",
              "Label                100,476.000       0.461         0.499          0.000   \n",
              "\n",
              "                            25%        50%         75%             max  \n",
              "CategoryID                1.000      1.000       2.000          13.000  \n",
              "Value                35,000.000 93,000.000 750,000.000 421,860,000.000  \n",
              "PropertySize            276.000    511.000   1,162.000 270,515,963.000  \n",
              "BillingAmt              461.000  3,141.000   8,715.000  26,133,617.000  \n",
              "AverageBillingAmt        23.000    107.000     281.000     805,044.000  \n",
              "CollectedAmt              0.000    360.000   7,402.250  24,371,134.000  \n",
              "AverageCollectedAmt       0.000    100.000     768.000   6,828,297.000  \n",
              "DebtAmt                   0.000      0.000   2,298.000   6,322,610.000  \n",
              "WriteOffAmt               0.000      0.000       0.000   4,306,605.000  \n",
              "CollectionRatio           0.000      0.500       1.000   1,701,912.000  \n",
              "DebtBillingRatio          0.000      0.000       1.280   1,836,304.000  \n",
              "TotalElectricityBill      0.000      0.000      88.000  22,711,689.000  \n",
              "HasID                     0.000      0.000       1.000           1.000  \n",
              "Label                     0.000      0.000       1.000           1.000  "
            ],
            "text/html": [
              "\n",
              "  <div id=\"df-1445bba2-834f-4f01-8569-17d14c65da34\">\n",
              "    <div class=\"colab-df-container\">\n",
              "      <div>\n",
              "<style scoped>\n",
              "    .dataframe tbody tr th:only-of-type {\n",
              "        vertical-align: middle;\n",
              "    }\n",
              "\n",
              "    .dataframe tbody tr th {\n",
              "        vertical-align: top;\n",
              "    }\n",
              "\n",
              "    .dataframe thead th {\n",
              "        text-align: right;\n",
              "    }\n",
              "</style>\n",
              "<table border=\"1\" class=\"dataframe\">\n",
              "  <thead>\n",
              "    <tr style=\"text-align: right;\">\n",
              "      <th></th>\n",
              "      <th>count</th>\n",
              "      <th>mean</th>\n",
              "      <th>std</th>\n",
              "      <th>min</th>\n",
              "      <th>25%</th>\n",
              "      <th>50%</th>\n",
              "      <th>75%</th>\n",
              "      <th>max</th>\n",
              "    </tr>\n",
              "  </thead>\n",
              "  <tbody>\n",
              "    <tr>\n",
              "      <th>CategoryID</th>\n",
              "      <td>100,476.000</td>\n",
              "      <td>2.246</td>\n",
              "      <td>2.731</td>\n",
              "      <td>1.000</td>\n",
              "      <td>1.000</td>\n",
              "      <td>1.000</td>\n",
              "      <td>2.000</td>\n",
              "      <td>13.000</td>\n",
              "    </tr>\n",
              "    <tr>\n",
              "      <th>Value</th>\n",
              "      <td>100,476.000</td>\n",
              "      <td>707,020.754</td>\n",
              "      <td>3,047,463.194</td>\n",
              "      <td>0.000</td>\n",
              "      <td>35,000.000</td>\n",
              "      <td>93,000.000</td>\n",
              "      <td>750,000.000</td>\n",
              "      <td>421,860,000.000</td>\n",
              "    </tr>\n",
              "    <tr>\n",
              "      <th>PropertySize</th>\n",
              "      <td>100,476.000</td>\n",
              "      <td>746,822.707</td>\n",
              "      <td>5,651,558.437</td>\n",
              "      <td>0.000</td>\n",
              "      <td>276.000</td>\n",
              "      <td>511.000</td>\n",
              "      <td>1,162.000</td>\n",
              "      <td>270,515,963.000</td>\n",
              "    </tr>\n",
              "    <tr>\n",
              "      <th>BillingAmt</th>\n",
              "      <td>100,476.000</td>\n",
              "      <td>10,899.514</td>\n",
              "      <td>126,234.137</td>\n",
              "      <td>-4,232,630.000</td>\n",
              "      <td>461.000</td>\n",
              "      <td>3,141.000</td>\n",
              "      <td>8,715.000</td>\n",
              "      <td>26,133,617.000</td>\n",
              "    </tr>\n",
              "    <tr>\n",
              "      <th>AverageBillingAmt</th>\n",
              "      <td>100,476.000</td>\n",
              "      <td>575.486</td>\n",
              "      <td>6,430.310</td>\n",
              "      <td>-79,384.000</td>\n",
              "      <td>23.000</td>\n",
              "      <td>107.000</td>\n",
              "      <td>281.000</td>\n",
              "      <td>805,044.000</td>\n",
              "    </tr>\n",
              "    <tr>\n",
              "      <th>CollectedAmt</th>\n",
              "      <td>100,476.000</td>\n",
              "      <td>9,763.645</td>\n",
              "      <td>120,144.906</td>\n",
              "      <td>-219,260.000</td>\n",
              "      <td>0.000</td>\n",
              "      <td>360.000</td>\n",
              "      <td>7,402.250</td>\n",
              "      <td>24,371,134.000</td>\n",
              "    </tr>\n",
              "    <tr>\n",
              "      <th>AverageCollectedAmt</th>\n",
              "      <td>100,476.000</td>\n",
              "      <td>2,044.688</td>\n",
              "      <td>36,824.866</td>\n",
              "      <td>-219,260.000</td>\n",
              "      <td>0.000</td>\n",
              "      <td>100.000</td>\n",
              "      <td>768.000</td>\n",
              "      <td>6,828,297.000</td>\n",
              "    </tr>\n",
              "    <tr>\n",
              "      <th>DebtAmt</th>\n",
              "      <td>100,476.000</td>\n",
              "      <td>9,642.500</td>\n",
              "      <td>50,030.133</td>\n",
              "      <td>0.000</td>\n",
              "      <td>0.000</td>\n",
              "      <td>0.000</td>\n",
              "      <td>2,298.000</td>\n",
              "      <td>6,322,610.000</td>\n",
              "    </tr>\n",
              "    <tr>\n",
              "      <th>WriteOffAmt</th>\n",
              "      <td>100,476.000</td>\n",
              "      <td>602.765</td>\n",
              "      <td>14,409.152</td>\n",
              "      <td>0.000</td>\n",
              "      <td>0.000</td>\n",
              "      <td>0.000</td>\n",
              "      <td>0.000</td>\n",
              "      <td>4,306,605.000</td>\n",
              "    </tr>\n",
              "    <tr>\n",
              "      <th>CollectionRatio</th>\n",
              "      <td>100,476.000</td>\n",
              "      <td>19.536</td>\n",
              "      <td>5,556.991</td>\n",
              "      <td>-115,000.000</td>\n",
              "      <td>0.000</td>\n",
              "      <td>0.500</td>\n",
              "      <td>1.000</td>\n",
              "      <td>1,701,912.000</td>\n",
              "    </tr>\n",
              "    <tr>\n",
              "      <th>DebtBillingRatio</th>\n",
              "      <td>100,476.000</td>\n",
              "      <td>18.633</td>\n",
              "      <td>6,274.720</td>\n",
              "      <td>-436,506.000</td>\n",
              "      <td>0.000</td>\n",
              "      <td>0.000</td>\n",
              "      <td>1.280</td>\n",
              "      <td>1,836,304.000</td>\n",
              "    </tr>\n",
              "    <tr>\n",
              "      <th>TotalElectricityBill</th>\n",
              "      <td>100,476.000</td>\n",
              "      <td>4,338.707</td>\n",
              "      <td>105,031.311</td>\n",
              "      <td>-220,289.000</td>\n",
              "      <td>0.000</td>\n",
              "      <td>0.000</td>\n",
              "      <td>88.000</td>\n",
              "      <td>22,711,689.000</td>\n",
              "    </tr>\n",
              "    <tr>\n",
              "      <th>HasID</th>\n",
              "      <td>100,476.000</td>\n",
              "      <td>0.428</td>\n",
              "      <td>0.495</td>\n",
              "      <td>0.000</td>\n",
              "      <td>0.000</td>\n",
              "      <td>0.000</td>\n",
              "      <td>1.000</td>\n",
              "      <td>1.000</td>\n",
              "    </tr>\n",
              "    <tr>\n",
              "      <th>Label</th>\n",
              "      <td>100,476.000</td>\n",
              "      <td>0.461</td>\n",
              "      <td>0.499</td>\n",
              "      <td>0.000</td>\n",
              "      <td>0.000</td>\n",
              "      <td>0.000</td>\n",
              "      <td>1.000</td>\n",
              "      <td>1.000</td>\n",
              "    </tr>\n",
              "  </tbody>\n",
              "</table>\n",
              "</div>\n",
              "      <button class=\"colab-df-convert\" onclick=\"convertToInteractive('df-1445bba2-834f-4f01-8569-17d14c65da34')\"\n",
              "              title=\"Convert this dataframe to an interactive table.\"\n",
              "              style=\"display:none;\">\n",
              "        \n",
              "  <svg xmlns=\"http://www.w3.org/2000/svg\" height=\"24px\"viewBox=\"0 0 24 24\"\n",
              "       width=\"24px\">\n",
              "    <path d=\"M0 0h24v24H0V0z\" fill=\"none\"/>\n",
              "    <path d=\"M18.56 5.44l.94 2.06.94-2.06 2.06-.94-2.06-.94-.94-2.06-.94 2.06-2.06.94zm-11 1L8.5 8.5l.94-2.06 2.06-.94-2.06-.94L8.5 2.5l-.94 2.06-2.06.94zm10 10l.94 2.06.94-2.06 2.06-.94-2.06-.94-.94-2.06-.94 2.06-2.06.94z\"/><path d=\"M17.41 7.96l-1.37-1.37c-.4-.4-.92-.59-1.43-.59-.52 0-1.04.2-1.43.59L10.3 9.45l-7.72 7.72c-.78.78-.78 2.05 0 2.83L4 21.41c.39.39.9.59 1.41.59.51 0 1.02-.2 1.41-.59l7.78-7.78 2.81-2.81c.8-.78.8-2.07 0-2.86zM5.41 20L4 18.59l7.72-7.72 1.47 1.35L5.41 20z\"/>\n",
              "  </svg>\n",
              "      </button>\n",
              "      \n",
              "  <style>\n",
              "    .colab-df-container {\n",
              "      display:flex;\n",
              "      flex-wrap:wrap;\n",
              "      gap: 12px;\n",
              "    }\n",
              "\n",
              "    .colab-df-convert {\n",
              "      background-color: #E8F0FE;\n",
              "      border: none;\n",
              "      border-radius: 50%;\n",
              "      cursor: pointer;\n",
              "      display: none;\n",
              "      fill: #1967D2;\n",
              "      height: 32px;\n",
              "      padding: 0 0 0 0;\n",
              "      width: 32px;\n",
              "    }\n",
              "\n",
              "    .colab-df-convert:hover {\n",
              "      background-color: #E2EBFA;\n",
              "      box-shadow: 0px 1px 2px rgba(60, 64, 67, 0.3), 0px 1px 3px 1px rgba(60, 64, 67, 0.15);\n",
              "      fill: #174EA6;\n",
              "    }\n",
              "\n",
              "    [theme=dark] .colab-df-convert {\n",
              "      background-color: #3B4455;\n",
              "      fill: #D2E3FC;\n",
              "    }\n",
              "\n",
              "    [theme=dark] .colab-df-convert:hover {\n",
              "      background-color: #434B5C;\n",
              "      box-shadow: 0px 1px 3px 1px rgba(0, 0, 0, 0.15);\n",
              "      filter: drop-shadow(0px 1px 2px rgba(0, 0, 0, 0.3));\n",
              "      fill: #FFFFFF;\n",
              "    }\n",
              "  </style>\n",
              "\n",
              "      <script>\n",
              "        const buttonEl =\n",
              "          document.querySelector('#df-1445bba2-834f-4f01-8569-17d14c65da34 button.colab-df-convert');\n",
              "        buttonEl.style.display =\n",
              "          google.colab.kernel.accessAllowed ? 'block' : 'none';\n",
              "\n",
              "        async function convertToInteractive(key) {\n",
              "          const element = document.querySelector('#df-1445bba2-834f-4f01-8569-17d14c65da34');\n",
              "          const dataTable =\n",
              "            await google.colab.kernel.invokeFunction('convertToInteractive',\n",
              "                                                     [key], {});\n",
              "          if (!dataTable) return;\n",
              "\n",
              "          const docLinkHtml = 'Like what you see? Visit the ' +\n",
              "            '<a target=\"_blank\" href=https://colab.research.google.com/notebooks/data_table.ipynb>data table notebook</a>'\n",
              "            + ' to learn more about interactive tables.';\n",
              "          element.innerHTML = '';\n",
              "          dataTable['output_type'] = 'display_data';\n",
              "          await google.colab.output.renderOutput(dataTable, element);\n",
              "          const docLink = document.createElement('div');\n",
              "          docLink.innerHTML = docLinkHtml;\n",
              "          element.appendChild(docLink);\n",
              "        }\n",
              "      </script>\n",
              "    </div>\n",
              "  </div>\n",
              "  "
            ]
          },
          "metadata": {},
          "execution_count": 16
        }
      ],
      "source": [
        "# Summary of continuous columns\n",
        "data.select_dtypes(['int64', 'float64']).describe().T"
      ]
    },
    {
      "cell_type": "markdown",
      "id": "b495678b-f372-472e-820d-8f509466ff3f",
      "metadata": {
        "id": "b495678b-f372-472e-820d-8f509466ff3f"
      },
      "source": [
        "- Year should be a Categorical variable\n",
        "- Household size is highly right skewed\n",
        "- Age is highly right skewed"
      ]
    },
    {
      "cell_type": "markdown",
      "id": "13ac22e6-2394-4bb5-be34-642b8bc6b3cd",
      "metadata": {
        "id": "13ac22e6-2394-4bb5-be34-642b8bc6b3cd"
      },
      "source": [
        "**Number of unique values in each column**"
      ]
    },
    {
      "cell_type": "code",
      "execution_count": null,
      "id": "d9e87177-ba93-41c0-b6d6-63c961638c39",
      "metadata": {
        "colab": {
          "base_uri": "https://localhost:8080/"
        },
        "id": "d9e87177-ba93-41c0-b6d6-63c961638c39",
        "outputId": "88b1c39a-eac2-4ffe-aaa6-ad6a55352e5d"
      },
      "outputs": [
        {
          "output_type": "execute_result",
          "data": {
            "text/plain": [
              "AccID                   100476\n",
              "CategoryID                  12\n",
              "Category                    12\n",
              "Value                    10427\n",
              "PropertySize             14208\n",
              "BillingAmt               28464\n",
              "AverageBillingAmt         5610\n",
              "CollectedAmt             23605\n",
              "AverageCollectedAmt       9044\n",
              "DebtAmt                  20453\n",
              "WriteOffAmt               5099\n",
              "CollectionRatio           1682\n",
              "DebtBillingRatio          6485\n",
              "TotalElectricityBill     11211\n",
              "HasID                        2\n",
              "Label                        2\n",
              "dtype: int64"
            ]
          },
          "metadata": {},
          "execution_count": 11
        }
      ],
      "source": [
        "data.nunique()"
      ]
    },
    {
      "cell_type": "markdown",
      "id": "843de69a-1e4e-46fc-99de-1a5d67ac570d",
      "metadata": {
        "id": "843de69a-1e4e-46fc-99de-1a5d67ac570d",
        "tags": []
      },
      "source": [
        "## EDA"
      ]
    },
    {
      "cell_type": "markdown",
      "id": "11ea64c5-5242-421f-96de-d4a0b0ecb6ea",
      "metadata": {
        "id": "11ea64c5-5242-421f-96de-d4a0b0ecb6ea"
      },
      "source": [
        "### Univariate analysis"
      ]
    },
    {
      "cell_type": "code",
      "execution_count": null,
      "id": "067a4b83-4655-4fd2-98ab-fb8a781ab989",
      "metadata": {
        "id": "067a4b83-4655-4fd2-98ab-fb8a781ab989",
        "tags": []
      },
      "outputs": [],
      "source": [
        "# function to plot a boxplot and a histogram along the same scale.\n",
        "\n",
        "\n",
        "def histogram_boxplot(data, feature, figsize=(12, 7), kde=False, bins=None):\n",
        "    \"\"\"\n",
        "    Boxplot and histogram combined\n",
        "\n",
        "    data: dataframe\n",
        "    feature: dataframe column\n",
        "    figsize: size of figure (default (12,7))\n",
        "    kde: whether to show the density curve (default False)\n",
        "    bins: number of bins for histogram (default None)\n",
        "    \"\"\"\n",
        "    f2, (ax_box2, ax_hist2) = plt.subplots(\n",
        "        nrows=2,  # Number of rows of the subplot grid= 2\n",
        "        sharex=True,  # x-axis will be shared among all subplots\n",
        "        gridspec_kw={\"height_ratios\": (0.25, 0.75)},\n",
        "        figsize=figsize,\n",
        "    )  # creating the 2 subplots\n",
        "    sns.boxplot(\n",
        "        data=data, x=feature, ax=ax_box2, showmeans=True, color=\"violet\"\n",
        "    )  # boxplot will be created and a star will indicate the mean value of the column\n",
        "    sns.histplot(\n",
        "        data=data, x=feature, kde=kde, ax=ax_hist2, bins=bins, palette=\"winter\"\n",
        "    ) if bins else sns.histplot(\n",
        "        data=data, x=feature, kde=kde, ax=ax_hist2\n",
        "    )  # For histogram\n",
        "    ax_hist2.axvline(\n",
        "        data[feature].mean(), color=\"green\", linestyle=\"--\"\n",
        "    )  # Add mean to the histogram\n",
        "    ax_hist2.axvline(\n",
        "        data[feature].median(), color=\"black\", linestyle=\"-\"\n",
        "    )  # Add median to the histogram"
      ]
    },
    {
      "cell_type": "markdown",
      "id": "60621aee-347c-4a8e-833b-b23fd0a44ca5",
      "metadata": {
        "id": "60621aee-347c-4a8e-833b-b23fd0a44ca5"
      },
      "source": [
        "**Function to create barplots that indicate percentage for each category**"
      ]
    },
    {
      "cell_type": "code",
      "execution_count": null,
      "id": "09968bc8-4806-43e9-8dc1-7ee69325eb00",
      "metadata": {
        "id": "09968bc8-4806-43e9-8dc1-7ee69325eb00"
      },
      "outputs": [],
      "source": [
        "# function to create labeled barplots\n",
        "\n",
        "\n",
        "def labeled_barplot(data, feature, perc=False, n=None):\n",
        "    \"\"\"\n",
        "    Barplot with percentage at the top\n",
        "\n",
        "    data: dataframe\n",
        "    feature: dataframe column\n",
        "    perc: whether to display percentages instead of count (default is False)\n",
        "    n: displays the top n category levels (default is None, i.e., display all levels)\n",
        "    \"\"\"\n",
        "\n",
        "    total = len(data[feature])  # length of the column\n",
        "    count = data[feature].nunique()\n",
        "    if n is None:\n",
        "        plt.figure(figsize=(count + 1, 5))\n",
        "    else:\n",
        "        plt.figure(figsize=(n + 1, 5))\n",
        "\n",
        "    plt.xticks(rotation=90, fontsize=15)\n",
        "    ax = sns.countplot(\n",
        "        data=data,\n",
        "        x=feature,\n",
        "        palette=\"Paired\",\n",
        "        order=data[feature].value_counts().index[:n].sort_values(),\n",
        "    )\n",
        "\n",
        "    for p in ax.patches:\n",
        "        if perc == True:\n",
        "            label = \"{:.1f}%\".format(\n",
        "                100 * p.get_height() / total\n",
        "            )  # percentage of each class of the category\n",
        "        else:\n",
        "            label = p.get_height()  # count of each level of the category\n",
        "\n",
        "        x = p.get_x() + p.get_width() / 2  # width of the plot\n",
        "        y = p.get_height()  # height of the plot\n",
        "\n",
        "        ax.annotate(\n",
        "            label,\n",
        "            (x, y),\n",
        "            ha=\"center\",\n",
        "            va=\"center\",\n",
        "            size=12,\n",
        "            xytext=(0, 5),\n",
        "            textcoords=\"offset points\",\n",
        "        )  # annotate the percentage\n",
        "\n",
        "    plt.show()  # show the plot"
      ]
    },
    {
      "cell_type": "code",
      "execution_count": null,
      "id": "700e010c-af34-442b-8771-108cb68e8736",
      "metadata": {
        "id": "700e010c-af34-442b-8771-108cb68e8736"
      },
      "outputs": [],
      "source": [
        "# Defining Categorical variables\n",
        "cat_col = ['Total_Credit_Cards', 'Total_visits_bank', 'Total_visits_online', 'Total_calls_made']"
      ]
    },
    {
      "cell_type": "code",
      "execution_count": null,
      "id": "dbcba15b-2feb-401d-90a9-0318f9f9c2b8",
      "metadata": {
        "id": "dbcba15b-2feb-401d-90a9-0318f9f9c2b8"
      },
      "outputs": [],
      "source": [
        "for item in cat_col:\n",
        "    labeled_barplot(data, item, perc=True)"
      ]
    },
    {
      "cell_type": "markdown",
      "id": "30158ee9-c52d-4d70-9191-1f09c648cc80",
      "metadata": {
        "id": "30158ee9-c52d-4d70-9191-1f09c648cc80"
      },
      "source": [
        "**Observations**\n",
        "\n",
        "- Most of the customers have four credit cards\n",
        "- Most of the customers have visited the bank physically twice in a year\n",
        "- Most of the customers have visited the bank online twice in a year\n",
        "- Most of the customers make four calls to the bank yearly"
      ]
    },
    {
      "cell_type": "code",
      "source": [
        "plt.figure(figsize=(15, 7))\n",
        "sns.heatmap(data.corr(method = 'spearman'), annot=True, vmin=-1, vmax=1, cmap=\"Spectral\")\n",
        "plt.show()"
      ],
      "metadata": {
        "colab": {
          "base_uri": "https://localhost:8080/",
          "height": 530
        },
        "id": "M201PB3YSOcY",
        "outputId": "ecd1a3e3-29af-479e-b0fa-e02d8caf62f4"
      },
      "id": "M201PB3YSOcY",
      "execution_count": null,
      "outputs": [
        {
          "output_type": "display_data",
          "data": {
            "text/plain": [
              "<Figure size 1080x504 with 2 Axes>"
            ],
            "image/png": "[encoded data removed]"
          },
          "metadata": {
            "needs_background": "light"
          }
        }
      ]
    },
    {
      "cell_type": "markdown",
      "id": "0e7cf075-e6a1-47f7-925a-de5f4f07e000",
      "metadata": {
        "id": "0e7cf075-e6a1-47f7-925a-de5f4f07e000"
      },
      "source": [
        "## Data Preprocessing\n",
        "\n",
        "This will feature missing value Treatment, outlier detection if needed, feature Engineering and data preparation for modelling."
      ]
    },
    {
      "cell_type": "markdown",
      "id": "6251f2b9-6c10-4c5c-97b3-4886f54f80ad",
      "metadata": {
        "tags": [],
        "id": "6251f2b9-6c10-4c5c-97b3-4886f54f80ad"
      },
      "source": [
        "### Outlier Detection"
      ]
    },
    {
      "cell_type": "code",
      "execution_count": null,
      "id": "336a04a8-e97f-4322-97c3-4f9110e70c88",
      "metadata": {
        "id": "336a04a8-e97f-4322-97c3-4f9110e70c88"
      },
      "outputs": [],
      "source": [
        "Q1 = data.quantile(0.25)             #To find the 25th percentile and 75th percentile.\n",
        "Q3 = data.quantile(0.75)\n",
        "\n",
        "IQR = Q3 - Q1                           #Inter Quantile Range (75th perentile - 25th percentile)\n",
        "\n",
        "lower=Q1-1.5*IQR                        #Finding lower and upper bounds for all values. All values outside these bounds are outliers\n",
        "upper=Q3+1.5*IQR"
      ]
    },
    {
      "cell_type": "markdown",
      "id": "4f5bc13d-2245-4c16-b2f2-27dcef056879",
      "metadata": {
        "id": "4f5bc13d-2245-4c16-b2f2-27dcef056879"
      },
      "source": [
        "**Display percentage outliers**"
      ]
    },
    {
      "cell_type": "code",
      "execution_count": null,
      "id": "222214dd-3394-4ecc-8d8a-1a7229c6f538",
      "metadata": {
        "colab": {
          "base_uri": "https://localhost:8080/"
        },
        "id": "222214dd-3394-4ecc-8d8a-1a7229c6f538",
        "outputId": "826f85f8-d31a-46a2-bf0c-618b56ba06ae"
      },
      "outputs": [
        {
          "output_type": "execute_result",
          "data": {
            "text/plain": [
              "CategoryID             19.990\n",
              "Value                   8.518\n",
              "PropertySize           16.629\n",
              "BillingAmt             11.153\n",
              "AverageBillingAmt      11.702\n",
              "CollectedAmt           12.126\n",
              "AverageCollectedAmt    13.116\n",
              "DebtAmt                18.806\n",
              "WriteOffAmt            10.792\n",
              "CollectionRatio         2.644\n",
              "DebtBillingRatio       19.983\n",
              "TotalElectricityBill   24.603\n",
              "HasID                   0.000\n",
              "Label                   0.000\n",
              "dtype: float64"
            ]
          },
          "metadata": {},
          "execution_count": 15
        }
      ],
      "source": [
        "((data.select_dtypes(include=['float64','int64'])<lower) | (data.select_dtypes(include=['float64','int64'])>upper)).sum()/len(data)*100"
      ]
    },
    {
      "cell_type": "code",
      "execution_count": null,
      "id": "c4504f3d-67c2-47a1-aa9a-764ae1e713f8",
      "metadata": {
        "id": "c4504f3d-67c2-47a1-aa9a-764ae1e713f8"
      },
      "outputs": [],
      "source": [
        "# Check Age extreme values\n",
        "data.sort_values(by=[\"age_of_respondent\"],ascending = False).head(5)"
      ]
    },
    {
      "cell_type": "markdown",
      "id": "214c459e-86e0-4ade-b48d-2e8e19681b63",
      "metadata": {
        "id": "214c459e-86e0-4ade-b48d-2e8e19681b63"
      },
      "source": [
        "* Although age has outliers, it does not look extreme\n",
        "* Age will be rescaled"
      ]
    },
    {
      "cell_type": "code",
      "execution_count": null,
      "id": "1f5ccc2d-0393-4726-beaa-cd01da630c31",
      "metadata": {
        "id": "1f5ccc2d-0393-4726-beaa-cd01da630c31"
      },
      "outputs": [],
      "source": [
        "# Check household size extreme values\n",
        "data.sort_values(by=[\"household_size\"],ascending = False).head(5)"
      ]
    },
    {
      "cell_type": "markdown",
      "id": "54ffbdab-7bc2-4608-8eb0-dc80b9be45f8",
      "metadata": {
        "id": "54ffbdab-7bc2-4608-8eb0-dc80b9be45f8"
      },
      "source": [
        "* Outlier Households will be removed.\n",
        "* Those greater than or equal to 10"
      ]
    },
    {
      "cell_type": "code",
      "execution_count": null,
      "id": "a9873e1f-4fce-4948-a61a-2783c0412532",
      "metadata": {
        "id": "a9873e1f-4fce-4948-a61a-2783c0412532"
      },
      "outputs": [],
      "source": [
        "data[(data.household_size>10)].shape"
      ]
    },
    {
      "cell_type": "code",
      "execution_count": null,
      "id": "7d6ebd4b-f203-41a5-8f41-5eb90b51ab93",
      "metadata": {
        "id": "7d6ebd4b-f203-41a5-8f41-5eb90b51ab93"
      },
      "outputs": [],
      "source": [
        "#Dropping observaions with duration of pitch greater than 40. There are just 2 such observations\n",
        "data.drop(index=data[data.household_size>10].index,inplace=True)"
      ]
    },
    {
      "cell_type": "code",
      "execution_count": null,
      "id": "0d34bdfd-7b07-4ef3-be2b-3fcf1a64e2a7",
      "metadata": {
        "id": "0d34bdfd-7b07-4ef3-be2b-3fcf1a64e2a7"
      },
      "outputs": [],
      "source": [
        "# function to preprocess our data from train models\n",
        "def preprocessing_data(data):\n",
        "\n",
        "    # categorical features to be onverted to One Hot Encoding\n",
        "    categ = [\"Category\"]\n",
        "\n",
        "    # One Hot Encoding conversion\n",
        "    data = pd.get_dummies(data, prefix_sep=\"_\", columns=categ, drop_first=True)\n",
        "\n",
        "    # drop uniquid column\n",
        "#    data = data.drop([\"uniqueid\", \"job_type\"], axis=1)\n",
        "    data = data.drop([\"AccID\", \"CollectedAmt\",\"CategoryID\"], axis=1)\n",
        "\n",
        "    return data"
      ]
    },
    {
      "cell_type": "code",
      "execution_count": null,
      "id": "9d9ecb4b-99dd-40a0-bb92-7ca5ea90f4c4",
      "metadata": {
        "colab": {
          "base_uri": "https://localhost:8080/"
        },
        "id": "9d9ecb4b-99dd-40a0-bb92-7ca5ea90f4c4",
        "outputId": "2ac20f5e-9f15-4b2d-fa45-82edbc744a0a"
      },
      "outputs": [
        {
          "output_type": "execute_result",
          "data": {
            "text/plain": [
              "Index(['AccID', 'CategoryID', 'Category', 'Value', 'PropertySize',\n",
              "       'BillingAmt', 'AverageBillingAmt', 'CollectedAmt',\n",
              "       'AverageCollectedAmt', 'DebtAmt', 'WriteOffAmt', 'CollectionRatio',\n",
              "       'DebtBillingRatio', 'TotalElectricityBill', 'HasID', 'Label'],\n",
              "      dtype='object')"
            ]
          },
          "metadata": {},
          "execution_count": 19
        }
      ],
      "source": [
        "data.columns"
      ]
    },
    {
      "cell_type": "markdown",
      "id": "64ba9645-0188-4de0-a505-f3ebfdbd4c76",
      "metadata": {
        "id": "64ba9645-0188-4de0-a505-f3ebfdbd4c76"
      },
      "source": [
        "Preprocess both train and test dataset."
      ]
    },
    {
      "cell_type": "code",
      "execution_count": null,
      "id": "040e5b27-81ad-4c13-b87b-86c5cb4d013e",
      "metadata": {
        "id": "040e5b27-81ad-4c13-b87b-86c5cb4d013e",
        "tags": []
      },
      "outputs": [],
      "source": [
        "# preprocess the train data\n",
        "processed_train = preprocessing_data(data)\n",
        "processed_test = preprocessing_data(test)"
      ]
    },
    {
      "cell_type": "code",
      "execution_count": null,
      "id": "62a105e8-1029-4403-b656-0bf18365c3db",
      "metadata": {
        "colab": {
          "base_uri": "https://localhost:8080/",
          "height": 288
        },
        "id": "62a105e8-1029-4403-b656-0bf18365c3db",
        "outputId": "e6e03ae0-9356-44ad-e862-9d5d49f3d9d1"
      },
      "outputs": [
        {
          "output_type": "execute_result",
          "data": {
            "text/plain": [
              "     Value  PropertySize  BillingAmt  AverageBillingAmt  AverageCollectedAmt  \\\n",
              "0  2674700           585       43717                729                 4342   \n",
              "1    36000           315         378                  3                  522   \n",
              "2   700000           528       25150                345                  349   \n",
              "3    40000             0        4773                133                    0   \n",
              "4   125800             0          -4                  0                  445   \n",
              "\n",
              "   DebtAmt  WriteOffAmt  CollectionRatio  DebtBillingRatio  \\\n",
              "0        0            0            0.990             0.000   \n",
              "1        0            0            1.380             0.000   \n",
              "2        0            0            1.000             0.000   \n",
              "3     7319            0            0.000             1.530   \n",
              "4        0            0         -121.260             0.000   \n",
              "\n",
              "   TotalElectricityBill  HasID  Label  Category_Business  \\\n",
              "0                     0      0      0                  0   \n",
              "1                     0      0      0                  0   \n",
              "2                 10715      1      0                  0   \n",
              "3                     0      1      1                  0   \n",
              "4                     0      0      0                  0   \n",
              "\n",
              "   Category_Educational  Category_Environmental Management  \\\n",
              "0                     0                                  0   \n",
              "1                     0                                  0   \n",
              "2                     0                                  0   \n",
              "3                     0                                  0   \n",
              "4                     0                                  0   \n",
              "\n",
              "   Category_Government  Category_Industry  Category_Infrastructure  \\\n",
              "0                    0                  0                        0   \n",
              "1                    0                  0                        0   \n",
              "2                    0                  0                        0   \n",
              "3                    0                  0                        0   \n",
              "4                    0                  0                        0   \n",
              "\n",
              "   Category_Municipal  Category_Place of Worship  Category_Public Benefit  \\\n",
              "0                   0                          0                        0   \n",
              "1                   0                          0                        0   \n",
              "2                   0                          0                        0   \n",
              "3                   1                          0                        0   \n",
              "4                   0                          0                        0   \n",
              "\n",
              "   Category_Residential  Category_Unknown  \n",
              "0                     1                 0  \n",
              "1                     1                 0  \n",
              "2                     1                 0  \n",
              "3                     0                 0  \n",
              "4                     1                 0  "
            ],
            "text/html": [
              "\n",
              "  <div id=\"df-4afe6751-589b-4f79-9683-c2360d98c9c0\">\n",
              "    <div class=\"colab-df-container\">\n",
              "      <div>\n",
              "<style scoped>\n",
              "    .dataframe tbody tr th:only-of-type {\n",
              "        vertical-align: middle;\n",
              "    }\n",
              "\n",
              "    .dataframe tbody tr th {\n",
              "        vertical-align: top;\n",
              "    }\n",
              "\n",
              "    .dataframe thead th {\n",
              "        text-align: right;\n",
              "    }\n",
              "</style>\n",
              "<table border=\"1\" class=\"dataframe\">\n",
              "  <thead>\n",
              "    <tr style=\"text-align: right;\">\n",
              "      <th></th>\n",
              "      <th>Value</th>\n",
              "      <th>PropertySize</th>\n",
              "      <th>BillingAmt</th>\n",
              "      <th>AverageBillingAmt</th>\n",
              "      <th>AverageCollectedAmt</th>\n",
              "      <th>DebtAmt</th>\n",
              "      <th>WriteOffAmt</th>\n",
              "      <th>CollectionRatio</th>\n",
              "      <th>DebtBillingRatio</th>\n",
              "      <th>TotalElectricityBill</th>\n",
              "      <th>HasID</th>\n",
              "      <th>Label</th>\n",
              "      <th>Category_Business</th>\n",
              "      <th>Category_Educational</th>\n",
              "      <th>Category_Environmental Management</th>\n",
              "      <th>Category_Government</th>\n",
              "      <th>Category_Industry</th>\n",
              "      <th>Category_Infrastructure</th>\n",
              "      <th>Category_Municipal</th>\n",
              "      <th>Category_Place of Worship</th>\n",
              "      <th>Category_Public Benefit</th>\n",
              "      <th>Category_Residential</th>\n",
              "      <th>Category_Unknown</th>\n",
              "    </tr>\n",
              "  </thead>\n",
              "  <tbody>\n",
              "    <tr>\n",
              "      <th>0</th>\n",
              "      <td>2674700</td>\n",
              "      <td>585</td>\n",
              "      <td>43717</td>\n",
              "      <td>729</td>\n",
              "      <td>4342</td>\n",
              "      <td>0</td>\n",
              "      <td>0</td>\n",
              "      <td>0.990</td>\n",
              "      <td>0.000</td>\n",
              "      <td>0</td>\n",
              "      <td>0</td>\n",
              "      <td>0</td>\n",
              "      <td>0</td>\n",
              "      <td>0</td>\n",
              "      <td>0</td>\n",
              "      <td>0</td>\n",
              "      <td>0</td>\n",
              "      <td>0</td>\n",
              "      <td>0</td>\n",
              "      <td>0</td>\n",
              "      <td>0</td>\n",
              "      <td>1</td>\n",
              "      <td>0</td>\n",
              "    </tr>\n",
              "    <tr>\n",
              "      <th>1</th>\n",
              "      <td>36000</td>\n",
              "      <td>315</td>\n",
              "      <td>378</td>\n",
              "      <td>3</td>\n",
              "      <td>522</td>\n",
              "      <td>0</td>\n",
              "      <td>0</td>\n",
              "      <td>1.380</td>\n",
              "      <td>0.000</td>\n",
              "      <td>0</td>\n",
              "      <td>0</td>\n",
              "      <td>0</td>\n",
              "      <td>0</td>\n",
              "      <td>0</td>\n",
              "      <td>0</td>\n",
              "      <td>0</td>\n",
              "      <td>0</td>\n",
              "      <td>0</td>\n",
              "      <td>0</td>\n",
              "      <td>0</td>\n",
              "      <td>0</td>\n",
              "      <td>1</td>\n",
              "      <td>0</td>\n",
              "    </tr>\n",
              "    <tr>\n",
              "      <th>2</th>\n",
              "      <td>700000</td>\n",
              "      <td>528</td>\n",
              "      <td>25150</td>\n",
              "      <td>345</td>\n",
              "      <td>349</td>\n",
              "      <td>0</td>\n",
              "      <td>0</td>\n",
              "      <td>1.000</td>\n",
              "      <td>0.000</td>\n",
              "      <td>10715</td>\n",
              "      <td>1</td>\n",
              "      <td>0</td>\n",
              "      <td>0</td>\n",
              "      <td>0</td>\n",
              "      <td>0</td>\n",
              "      <td>0</td>\n",
              "      <td>0</td>\n",
              "      <td>0</td>\n",
              "      <td>0</td>\n",
              "      <td>0</td>\n",
              "      <td>0</td>\n",
              "      <td>1</td>\n",
              "      <td>0</td>\n",
              "    </tr>\n",
              "    <tr>\n",
              "      <th>3</th>\n",
              "      <td>40000</td>\n",
              "      <td>0</td>\n",
              "      <td>4773</td>\n",
              "      <td>133</td>\n",
              "      <td>0</td>\n",
              "      <td>7319</td>\n",
              "      <td>0</td>\n",
              "      <td>0.000</td>\n",
              "      <td>1.530</td>\n",
              "      <td>0</td>\n",
              "      <td>1</td>\n",
              "      <td>1</td>\n",
              "      <td>0</td>\n",
              "      <td>0</td>\n",
              "      <td>0</td>\n",
              "      <td>0</td>\n",
              "      <td>0</td>\n",
              "      <td>0</td>\n",
              "      <td>1</td>\n",
              "      <td>0</td>\n",
              "      <td>0</td>\n",
              "      <td>0</td>\n",
              "      <td>0</td>\n",
              "    </tr>\n",
              "    <tr>\n",
              "      <th>4</th>\n",
              "      <td>125800</td>\n",
              "      <td>0</td>\n",
              "      <td>-4</td>\n",
              "      <td>0</td>\n",
              "      <td>445</td>\n",
              "      <td>0</td>\n",
              "      <td>0</td>\n",
              "      <td>-121.260</td>\n",
              "      <td>0.000</td>\n",
              "      <td>0</td>\n",
              "      <td>0</td>\n",
              "      <td>0</td>\n",
              "      <td>0</td>\n",
              "      <td>0</td>\n",
              "      <td>0</td>\n",
              "      <td>0</td>\n",
              "      <td>0</td>\n",
              "      <td>0</td>\n",
              "      <td>0</td>\n",
              "      <td>0</td>\n",
              "      <td>0</td>\n",
              "      <td>1</td>\n",
              "      <td>0</td>\n",
              "    </tr>\n",
              "  </tbody>\n",
              "</table>\n",
              "</div>\n",
              "      <button class=\"colab-df-convert\" onclick=\"convertToInteractive('df-4afe6751-589b-4f79-9683-c2360d98c9c0')\"\n",
              "              title=\"Convert this dataframe to an interactive table.\"\n",
              "              style=\"display:none;\">\n",
              "        \n",
              "  <svg xmlns=\"http://www.w3.org/2000/svg\" height=\"24px\"viewBox=\"0 0 24 24\"\n",
              "       width=\"24px\">\n",
              "    <path d=\"M0 0h24v24H0V0z\" fill=\"none\"/>\n",
              "    <path d=\"M18.56 5.44l.94 2.06.94-2.06 2.06-.94-2.06-.94-.94-2.06-.94 2.06-2.06.94zm-11 1L8.5 8.5l.94-2.06 2.06-.94-2.06-.94L8.5 2.5l-.94 2.06-2.06.94zm10 10l.94 2.06.94-2.06 2.06-.94-2.06-.94-.94-2.06-.94 2.06-2.06.94z\"/><path d=\"M17.41 7.96l-1.37-1.37c-.4-.4-.92-.59-1.43-.59-.52 0-1.04.2-1.43.59L10.3 9.45l-7.72 7.72c-.78.78-.78 2.05 0 2.83L4 21.41c.39.39.9.59 1.41.59.51 0 1.02-.2 1.41-.59l7.78-7.78 2.81-2.81c.8-.78.8-2.07 0-2.86zM5.41 20L4 18.59l7.72-7.72 1.47 1.35L5.41 20z\"/>\n",
              "  </svg>\n",
              "      </button>\n",
              "      \n",
              "  <style>\n",
              "    .colab-df-container {\n",
              "      display:flex;\n",
              "      flex-wrap:wrap;\n",
              "      gap: 12px;\n",
              "    }\n",
              "\n",
              "    .colab-df-convert {\n",
              "      background-color: #E8F0FE;\n",
              "      border: none;\n",
              "      border-radius: 50%;\n",
              "      cursor: pointer;\n",
              "      display: none;\n",
              "      fill: #1967D2;\n",
              "      height: 32px;\n",
              "      padding: 0 0 0 0;\n",
              "      width: 32px;\n",
              "    }\n",
              "\n",
              "    .colab-df-convert:hover {\n",
              "      background-color: #E2EBFA;\n",
              "      box-shadow: 0px 1px 2px rgba(60, 64, 67, 0.3), 0px 1px 3px 1px rgba(60, 64, 67, 0.15);\n",
              "      fill: #174EA6;\n",
              "    }\n",
              "\n",
              "    [theme=dark] .colab-df-convert {\n",
              "      background-color: #3B4455;\n",
              "      fill: #D2E3FC;\n",
              "    }\n",
              "\n",
              "    [theme=dark] .colab-df-convert:hover {\n",
              "      background-color: #434B5C;\n",
              "      box-shadow: 0px 1px 3px 1px rgba(0, 0, 0, 0.15);\n",
              "      filter: drop-shadow(0px 1px 2px rgba(0, 0, 0, 0.3));\n",
              "      fill: #FFFFFF;\n",
              "    }\n",
              "  </style>\n",
              "\n",
              "      <script>\n",
              "        const buttonEl =\n",
              "          document.querySelector('#df-4afe6751-589b-4f79-9683-c2360d98c9c0 button.colab-df-convert');\n",
              "        buttonEl.style.display =\n",
              "          google.colab.kernel.accessAllowed ? 'block' : 'none';\n",
              "\n",
              "        async function convertToInteractive(key) {\n",
              "          const element = document.querySelector('#df-4afe6751-589b-4f79-9683-c2360d98c9c0');\n",
              "          const dataTable =\n",
              "            await google.colab.kernel.invokeFunction('convertToInteractive',\n",
              "                                                     [key], {});\n",
              "          if (!dataTable) return;\n",
              "\n",
              "          const docLinkHtml = 'Like what you see? Visit the ' +\n",
              "            '<a target=\"_blank\" href=https://colab.research.google.com/notebooks/data_table.ipynb>data table notebook</a>'\n",
              "            + ' to learn more about interactive tables.';\n",
              "          element.innerHTML = '';\n",
              "          dataTable['output_type'] = 'display_data';\n",
              "          await google.colab.output.renderOutput(dataTable, element);\n",
              "          const docLink = document.createElement('div');\n",
              "          docLink.innerHTML = docLinkHtml;\n",
              "          element.appendChild(docLink);\n",
              "        }\n",
              "      </script>\n",
              "    </div>\n",
              "  </div>\n",
              "  "
            ]
          },
          "metadata": {},
          "execution_count": 28
        }
      ],
      "source": [
        "processed_train.head()"
      ]
    },
    {
      "cell_type": "code",
      "execution_count": null,
      "id": "603c1f4d-514f-4515-abde-138d00439e44",
      "metadata": {
        "colab": {
          "base_uri": "https://localhost:8080/"
        },
        "id": "603c1f4d-514f-4515-abde-138d00439e44",
        "outputId": "75237e6e-4d5b-47da-fac1-a9a7d42565b1"
      },
      "outputs": [
        {
          "output_type": "stream",
          "name": "stdout",
          "text": [
            "(100476, 23)\n",
            "(33493, 22)\n"
          ]
        }
      ],
      "source": [
        "# Check size of Train and Test\n",
        "\n",
        "print(processed_train.shape)\n",
        "print(processed_test.shape)"
      ]
    },
    {
      "cell_type": "code",
      "execution_count": null,
      "id": "ae17e183-b6fb-4050-aba0-2f29457f4d29",
      "metadata": {
        "colab": {
          "base_uri": "https://localhost:8080/"
        },
        "id": "ae17e183-b6fb-4050-aba0-2f29457f4d29",
        "outputId": "00970187-ef84-48d0-cca2-3ccc8d7bde1d"
      },
      "outputs": [
        {
          "output_type": "execute_result",
          "data": {
            "text/plain": [
              "{'Category_Environmental Management', 'Label'}"
            ]
          },
          "metadata": {},
          "execution_count": 30
        }
      ],
      "source": [
        "set(processed_train.columns) - set(processed_test.columns)"
      ]
    },
    {
      "cell_type": "code",
      "source": [
        "processed_test[\"Category_Environmental Management\"] = 0"
      ],
      "metadata": {
        "id": "w5Kvd8MrUkoH"
      },
      "id": "w5Kvd8MrUkoH",
      "execution_count": null,
      "outputs": []
    },
    {
      "cell_type": "markdown",
      "id": "782cd555-3ab9-4000-af77-7d6845e18693",
      "metadata": {
        "id": "782cd555-3ab9-4000-af77-7d6845e18693"
      },
      "source": [
        "* The target column in the train accounts for the extra column"
      ]
    },
    {
      "cell_type": "code",
      "execution_count": null,
      "metadata": {
        "colab": {
          "base_uri": "https://localhost:8080/"
        },
        "outputId": "2473d20e-cf15-49d1-cc19-b1e514cda836",
        "id": "0hu2wN6uU32L"
      },
      "outputs": [
        {
          "output_type": "execute_result",
          "data": {
            "text/plain": [
              "{'Label'}"
            ]
          },
          "metadata": {},
          "execution_count": 32
        }
      ],
      "source": [
        "set(processed_train.columns) - set(processed_test.columns)"
      ],
      "id": "0hu2wN6uU32L"
    },
    {
      "cell_type": "markdown",
      "id": "41ee8bd4-4e73-4fc6-b227-c1998d61881e",
      "metadata": {
        "id": "41ee8bd4-4e73-4fc6-b227-c1998d61881e"
      },
      "source": [
        "### Data Preparation for Modeling"
      ]
    },
    {
      "cell_type": "code",
      "execution_count": null,
      "id": "3cba2a83-0303-4b88-bbaf-a30f496910eb",
      "metadata": {
        "id": "3cba2a83-0303-4b88-bbaf-a30f496910eb"
      },
      "outputs": [],
      "source": [
        "X = processed_train.drop([\"Label\"], axis=1)\n",
        "y = processed_train[\"Label\"]"
      ]
    },
    {
      "cell_type": "code",
      "execution_count": null,
      "id": "4987b69d-76fd-4f94-ab98-98880cab1c34",
      "metadata": {
        "colab": {
          "base_uri": "https://localhost:8080/"
        },
        "id": "4987b69d-76fd-4f94-ab98-98880cab1c34",
        "outputId": "7bec47fb-b428-4e32-bca3-daf8e70b564f"
      },
      "outputs": [
        {
          "output_type": "stream",
          "name": "stdout",
          "text": [
            "(60285, 22) (20095, 22) (20096, 22)\n"
          ]
        }
      ],
      "source": [
        "# Splitting data into training, validation and test set:\n",
        "# first we split data into 2 parts, say temporary and test\n",
        "\n",
        "X_temp, X_test, y_temp, y_test = train_test_split(\n",
        "    X, y, test_size=0.2, random_state=1, stratify=y\n",
        ")\n",
        "\n",
        "# then we split the temporary set into train and validation\n",
        "\n",
        "X_train, X_val, y_train, y_val = train_test_split(\n",
        "    X_temp, y_temp, test_size=0.25, random_state=1, stratify=y_temp\n",
        ")\n",
        "print(X_train.shape, X_val.shape, X_test.shape)"
      ]
    },
    {
      "cell_type": "code",
      "execution_count": null,
      "id": "5e1abf95-4d7c-4272-a13c-21548be69127",
      "metadata": {
        "colab": {
          "base_uri": "https://localhost:8080/"
        },
        "id": "5e1abf95-4d7c-4272-a13c-21548be69127",
        "outputId": "575618be-c7ca-41f8-8b89-fc217237fe03"
      },
      "outputs": [
        {
          "output_type": "stream",
          "name": "stdout",
          "text": [
            "Number of rows in train data = 60285\n",
            "Number of rows in validation data = 20095\n",
            "Number of rows in test data = 20096\n"
          ]
        }
      ],
      "source": [
        "print(\"Number of rows in train data =\", X_train.shape[0])\n",
        "print(\"Number of rows in validation data =\", X_val.shape[0])\n",
        "print(\"Number of rows in test data =\", X_test.shape[0])"
      ]
    },
    {
      "cell_type": "code",
      "execution_count": null,
      "id": "5ca9f00a-dc79-4c9b-84ed-10716fb6eb48",
      "metadata": {
        "colab": {
          "base_uri": "https://localhost:8080/"
        },
        "id": "5ca9f00a-dc79-4c9b-84ed-10716fb6eb48",
        "outputId": "c20e7ef2-bb94-4698-fe8e-3e9bbe07cdc8"
      },
      "outputs": [
        {
          "output_type": "stream",
          "name": "stdout",
          "text": [
            "Percentage of classes in training set:\n",
            "0   0.539\n",
            "1   0.461\n",
            "Name: Label, dtype: float64\n",
            "Percentage of classes in validation set:\n",
            "0   0.539\n",
            "1   0.461\n",
            "Name: Label, dtype: float64\n",
            "Percentage of classes in test set:\n",
            "0   0.539\n",
            "1   0.461\n",
            "Name: Label, dtype: float64\n"
          ]
        }
      ],
      "source": [
        "print(\"Percentage of classes in training set:\")\n",
        "print(y_train.value_counts(normalize=True))\n",
        "print(\"Percentage of classes in validation set:\")\n",
        "print(y_val.value_counts(normalize=True))\n",
        "print(\"Percentage of classes in test set:\")\n",
        "print(y_test.value_counts(normalize=True))"
      ]
    },
    {
      "cell_type": "markdown",
      "id": "be5cb87c-a0c1-42cd-bc3e-ce027ed1d2eb",
      "metadata": {
        "tags": [],
        "id": "be5cb87c-a0c1-42cd-bc3e-ce027ed1d2eb"
      },
      "source": [
        "# Model building"
      ]
    },
    {
      "cell_type": "markdown",
      "id": "b7d2a916-61f8-49ed-bf3f-5f1b0e4cec3b",
      "metadata": {
        "tags": [],
        "id": "b7d2a916-61f8-49ed-bf3f-5f1b0e4cec3b"
      },
      "source": [
        "## Introduction"
      ]
    },
    {
      "cell_type": "markdown",
      "id": "10f2a017-ff92-4b59-97dc-8a10ba2afa50",
      "metadata": {
        "id": "10f2a017-ff92-4b59-97dc-8a10ba2afa50"
      },
      "source": [
        "### Model evaluation criterion:\n",
        "\n",
        "#### Model can make wrong predictions as:\n",
        "1. Predicting a customer will attrit and does not - Loss of resources\n",
        "2. Predicting a customer will not attrit but does - Loss of opportunity\n",
        "\n",
        "#### Which case is more important?\n",
        "* Predicting a customer will not attrit but does i.e. losing on a potential customer which comes at a great loss for the bank.\n",
        "\n",
        "#### How to reduce this loss i.e need to reduce False Negatives?\n",
        "* Company wants Recall to be maximized, greater the Recall lesser the chances of false negatives."
      ]
    },
    {
      "cell_type": "markdown",
      "id": "3c7130d7-1c90-419d-a2b6-f03c12a1b94d",
      "metadata": {
        "tags": [],
        "id": "3c7130d7-1c90-419d-a2b6-f03c12a1b94d"
      },
      "source": [
        "## Stratified K-Folds cross-validation"
      ]
    },
    {
      "cell_type": "markdown",
      "id": "74526a68-0605-4f55-b4cb-2e3211c40e0e",
      "metadata": {
        "id": "74526a68-0605-4f55-b4cb-2e3211c40e0e"
      },
      "source": [
        "- `Stratified K-Folds cross-validation` provides dataset indices to split data into train/validation sets. Split dataset into k consecutive folds (without shuffling by default) keeping the distribution of both classes in each fold the same as the target variable. Each fold is then used once as validation while the k - 1 remaining folds form the training set."
      ]
    },
    {
      "cell_type": "code",
      "execution_count": null,
      "id": "3a3c07b9-fdbc-4b4b-bd57-ce6c28d2ddd5",
      "metadata": {
        "colab": {
          "base_uri": "https://localhost:8080/"
        },
        "id": "3a3c07b9-fdbc-4b4b-bd57-ce6c28d2ddd5",
        "outputId": "1e9f35b2-85de-4117-c99b-4f75af141a82"
      },
      "outputs": [
        {
          "output_type": "stream",
          "name": "stdout",
          "text": [
            "\n",
            "Cross-Validation Performance:\n",
            "\n",
            "Logistic Regression: 97.13193767174648, 0.4664761192737529%\n",
            "Random forest: 99.75118078369943, 0.04063812364749153%\n",
            "GBM: 99.73625210949555, 0.05321481913631401%\n",
            "Adaboost: 99.75947595909747, 0.03800612922984287%\n",
            "Xgboost: 99.76279298365795, 0.036382193176154376%\n",
            "dtree: 99.50733751697584, 0.07641221454696555%\n"
          ]
        }
      ],
      "source": [
        "models = []  # Empty list to store all the models\n",
        "\n",
        "# Appending models into the list\n",
        "models.append((\"Logistic Regression\", LogisticRegression(random_state=1)))\n",
        "models.append((\"Random forest\", RandomForestClassifier(random_state=1)))\n",
        "models.append((\"GBM\", GradientBoostingClassifier(random_state=1)))\n",
        "models.append((\"Adaboost\", AdaBoostClassifier(random_state=1)))\n",
        "models.append((\"Xgboost\", XGBClassifier(random_state=1, eval_metric=\"logloss\")))\n",
        "models.append((\"dtree\", DecisionTreeClassifier(random_state=1)))\n",
        "\n",
        "results = []  # Empty list to store all model's CV scores\n",
        "names = []  # Empty list to store name of the models\n",
        "cv_score = [] # Empty list to store all model's mean CV scores\n",
        "cv_std = [] # Empty list to store all model's CV Standard Deviation\n",
        "\n",
        "\n",
        "# loop through all models to get the mean cross validated score\n",
        "print(\"\\n\" \"Cross-Validation Performance:\" \"\\n\")\n",
        "\n",
        "for name, model in models:\n",
        "    scoring = \"accuracy\"\n",
        "    kfold = StratifiedKFold(\n",
        "        n_splits=10, shuffle=True, random_state=1\n",
        "    )  # Setting number of splits equal to 10\n",
        "    cv_result = cross_val_score(\n",
        "        estimator=model, X=X_train, y=y_train, scoring=scoring, cv=kfold\n",
        "    )\n",
        "    results.append(cv_result)\n",
        "    cv_score.append(cv_result.mean() * 100)\n",
        "    cv_std.append(cv_result.std() * 100)\n",
        "    names.append(name + \" base\")\n",
        "    print(\"{}: {}, {}%\".format(name, cv_result.mean() * 100, cv_result.std() * 100))"
      ]
    },
    {
      "cell_type": "code",
      "execution_count": null,
      "id": "595bb295-f690-48ba-b836-855c4095c102",
      "metadata": {
        "colab": {
          "base_uri": "https://localhost:8080/",
          "height": 479
        },
        "id": "595bb295-f690-48ba-b836-855c4095c102",
        "outputId": "aa1a8a7a-fa59-43f3-bbbe-4a9b845b5c97"
      },
      "outputs": [
        {
          "output_type": "display_data",
          "data": {
            "text/plain": [
              "<Figure size 1080x504 with 1 Axes>"
            ],
            "image/png": "[encoded data removed]"
          },
          "metadata": {
            "needs_background": "light"
          }
        }
      ],
      "source": [
        "# Plotting boxplots for CV scores of all models defined above\n",
        "fig = plt.figure(figsize=(15, 7))\n",
        "\n",
        "fig.suptitle(\"Algorithm Comparison\")\n",
        "ax = fig.add_subplot(111)\n",
        "\n",
        "plt.boxplot(results)\n",
        "ax.set_xticklabels(names)\n",
        "\n",
        "plt.show()"
      ]
    },
    {
      "cell_type": "markdown",
      "id": "3820a247-b9d4-4110-bebe-4595ff0fcb3d",
      "metadata": {
        "tags": [],
        "id": "3820a247-b9d4-4110-bebe-4595ff0fcb3d"
      },
      "source": [
        "## Training Performance"
      ]
    },
    {
      "cell_type": "code",
      "execution_count": null,
      "id": "72291e15-f2b2-4ff2-af77-c330cd7de168",
      "metadata": {
        "id": "72291e15-f2b2-4ff2-af77-c330cd7de168"
      },
      "outputs": [],
      "source": [
        "print(\"\\n\" \"Training Performance:\" \"\\n\")\n",
        "\n",
        "score = []\n",
        "\n",
        "for name, model in models:\n",
        "    model.fit(X_train, y_train)\n",
        "    scores = accuracy_score(y_train, model.predict(X_train)) * 100\n",
        "    score.append(scores)\n",
        "    print(\"{}: {}\".format(name, scores))"
      ]
    },
    {
      "cell_type": "markdown",
      "id": "475c93a2-d0fd-4f9b-aade-d3bba518723d",
      "metadata": {
        "tags": [],
        "id": "475c93a2-d0fd-4f9b-aade-d3bba518723d"
      },
      "source": [
        "## Summary (Base Models)"
      ]
    },
    {
      "cell_type": "markdown",
      "id": "bdc1d270-5f57-4604-b37e-6771bb4c9c19",
      "metadata": {
        "id": "bdc1d270-5f57-4604-b37e-6771bb4c9c19"
      },
      "source": [
        "- We can see that Xgboost is giving the highest cross-validated recall followed by Gradient Boost\n",
        "- The boxplot shows that the performance of xgboost is consistent with no outlier. However, Adaboost seems to be the most consistent.\n",
        "- So far, the Performance of Xgboost and Gradient Boost is highest on cross-validation."
      ]
    },
    {
      "cell_type": "markdown",
      "id": "8ffcd44e-95ef-4429-adf5-18e1dba21a0e",
      "metadata": {
        "tags": [],
        "id": "8ffcd44e-95ef-4429-adf5-18e1dba21a0e"
      },
      "source": [
        "# Model building - Oversampled data"
      ]
    },
    {
      "cell_type": "markdown",
      "id": "841211f3-eb72-4d4a-8888-e6602bab1153",
      "metadata": {
        "tags": [],
        "id": "841211f3-eb72-4d4a-8888-e6602bab1153"
      },
      "source": [
        "## Oversampling train data using SMOTE"
      ]
    },
    {
      "cell_type": "code",
      "execution_count": null,
      "id": "a059453f-b337-4d19-b2c6-adb18dd95e1e",
      "metadata": {
        "id": "a059453f-b337-4d19-b2c6-adb18dd95e1e"
      },
      "outputs": [],
      "source": [
        "print(\"Before Oversampling, counts of label 'Yes': {}\".format(sum(y_train == 1)))\n",
        "print(\"Before Oversampling, counts of label 'No': {} \\n\".format(sum(y_train == 0)))\n",
        "\n",
        "sm = SMOTE(\n",
        "    sampling_strategy=1, k_neighbors=5, random_state=1\n",
        ")  # Synthetic Minority Over Sampling Technique\n",
        "X_train_over, y_train_over = sm.fit_resample(X_train, y_train)\n",
        "\n",
        "\n",
        "print(\"After Oversampling, counts of label 'Yes': {}\".format(sum(y_train_over == 1)))\n",
        "print(\"After Oversampling, counts of label 'No': {} \\n\".format(sum(y_train_over == 0)))\n",
        "\n",
        "\n",
        "print(\"After Oversampling, the shape of train_X: {}\".format(X_train_over.shape))\n",
        "print(\"After Oversampling, the shape of train_y: {} \\n\".format(y_train_over.shape))"
      ]
    },
    {
      "cell_type": "markdown",
      "id": "6c943c10-204f-49a7-840b-e21d35cf8c96",
      "metadata": {
        "tags": [],
        "id": "6c943c10-204f-49a7-840b-e21d35cf8c96"
      },
      "source": [
        "## Stratified K-Folds cross-validation"
      ]
    },
    {
      "cell_type": "markdown",
      "id": "5f053603-b997-4b38-a53c-44dd1d610821",
      "metadata": {
        "id": "5f053603-b997-4b38-a53c-44dd1d610821"
      },
      "source": [
        "- `Stratified K-Folds cross-validation` provides dataset indices to split data into train/validation sets. Split dataset into k consecutive folds (without shuffling by default) keeping the distribution of both classes in each fold the same as the target variable. Each fold is then used once as validation while the k - 1 remaining folds form the training set."
      ]
    },
    {
      "cell_type": "code",
      "execution_count": null,
      "id": "2acc25c1-d4d5-4233-ac70-f677bfc32eb4",
      "metadata": {
        "id": "2acc25c1-d4d5-4233-ac70-f677bfc32eb4"
      },
      "outputs": [],
      "source": [
        "models_over = []  # Empty list to store all the models\n",
        "\n",
        "# Appending models into the list\n",
        "models_over.append((\"Logistic Regression\", LogisticRegression(random_state=1)))\n",
        "models_over.append((\"Random forest\", RandomForestClassifier(random_state=1)))\n",
        "models_over.append((\"GBM\", GradientBoostingClassifier(random_state=1)))\n",
        "models_over.append((\"Adaboost\", AdaBoostClassifier(random_state=1)))\n",
        "models_over.append((\"Xgboost\", XGBClassifier(random_state=1, eval_metric=\"logloss\")))\n",
        "models_over.append((\"dtree\", DecisionTreeClassifier(random_state=1)))\n",
        "\n",
        "results_over = []  # Empty list to store all model's CV scores\n",
        "names_over = []  # Empty list to store name of the models\n",
        "cv_score_over = [] # Empty list to store all model's mean CV scores\n",
        "cv_std_over = [] # Empty list to store all model's mean CV scores\n",
        "\n",
        "\n",
        "# loop through all models to get the mean cross validated score\n",
        "print(\"\\n\" \"Cross-Validation Performance:\" \"\\n\")\n",
        "\n",
        "for name, model in models_over:\n",
        "    scoring = \"accuracy\"\n",
        "    kfold = StratifiedKFold(\n",
        "        n_splits=10, shuffle=True, random_state=1\n",
        "    )  # Setting number of splits equal to 10\n",
        "    cv_result = cross_val_score(\n",
        "        estimator=model, X=X_train_over, y=y_train_over, scoring=scoring, cv=kfold\n",
        "    )\n",
        "    results_over.append(cv_result)\n",
        "    cv_score_over.append(cv_result.mean() * 100)\n",
        "    cv_std_over.append(cv_result.std() * 100)\n",
        "    names_over.append(name + \" over\")\n",
        "    print(\"{}: {}, {}%\".format(name, cv_result.mean() * 100, cv_result.std() * 100))"
      ]
    },
    {
      "cell_type": "code",
      "execution_count": null,
      "id": "1ba5fcc7-71f1-4495-9bfb-f6eff68329da",
      "metadata": {
        "id": "1ba5fcc7-71f1-4495-9bfb-f6eff68329da"
      },
      "outputs": [],
      "source": [
        "# Plotting boxplots for CV scores of all models defined above\n",
        "fig = plt.figure(figsize=(15, 7))\n",
        "\n",
        "fig.suptitle(\"Algorithm Comparison\")\n",
        "ax = fig.add_subplot(111)\n",
        "\n",
        "plt.boxplot(results_over)\n",
        "ax.set_xticklabels(names_over)\n",
        "\n",
        "plt.show()"
      ]
    },
    {
      "cell_type": "markdown",
      "id": "6aca48e3-5078-4693-ab7d-b7779ae94a3c",
      "metadata": {
        "tags": [],
        "id": "6aca48e3-5078-4693-ab7d-b7779ae94a3c"
      },
      "source": [
        "### Training Performance"
      ]
    },
    {
      "cell_type": "code",
      "execution_count": null,
      "id": "31459ec9-eeb1-4783-ab20-bb8b68dfb5f3",
      "metadata": {
        "id": "31459ec9-eeb1-4783-ab20-bb8b68dfb5f3"
      },
      "outputs": [],
      "source": [
        "print(\"\\n\" \"Training Performance:\" \"\\n\")\n",
        "\n",
        "score_over = []\n",
        "\n",
        "for name, model in models:\n",
        "    model.fit(X_train_over, y_train_over)\n",
        "    scores = accuracy_score(y_train_over, model.predict(X_train_over)) * 100\n",
        "    score_over.append(scores)\n",
        "    print(\"{}: {}\".format(name, scores))"
      ]
    },
    {
      "cell_type": "markdown",
      "id": "1be11646-2e20-4793-8aab-754a7ea0cefe",
      "metadata": {
        "tags": [],
        "id": "1be11646-2e20-4793-8aab-754a7ea0cefe"
      },
      "source": [
        "## Summary (Oversampled Models)"
      ]
    },
    {
      "cell_type": "markdown",
      "id": "38c5b11d-6289-478d-8e60-6c61d8e9230f",
      "metadata": {
        "id": "38c5b11d-6289-478d-8e60-6c61d8e9230f"
      },
      "source": [
        "- We can see that Xgboost is giving the highest cross-validated recall followed by Random Forest Classifier\n",
        "- The boxplot shows that the performance of xgboost is consistent as well of that of the random forest classifier.\n",
        "- So far, the Performance of Xgboost and Random Forest is highest on cross-validation."
      ]
    },
    {
      "cell_type": "markdown",
      "id": "e4d3e98a-819e-4057-ad85-a6460159c7b6",
      "metadata": {
        "tags": [],
        "id": "e4d3e98a-819e-4057-ad85-a6460159c7b6"
      },
      "source": [
        "# Model building - Undersampled data"
      ]
    },
    {
      "cell_type": "markdown",
      "id": "5f9a7cf9-1e0d-4468-851f-72f56555a90b",
      "metadata": {
        "id": "5f9a7cf9-1e0d-4468-851f-72f56555a90b"
      },
      "source": [
        "## Undersampling train data using Random Under Sampler"
      ]
    },
    {
      "cell_type": "code",
      "execution_count": null,
      "id": "8759669d-81dc-49d3-b2a8-69d31d4b372a",
      "metadata": {
        "id": "8759669d-81dc-49d3-b2a8-69d31d4b372a"
      },
      "outputs": [],
      "source": [
        "rus = RandomUnderSampler(random_state=1)\n",
        "X_train_un, y_train_un = rus.fit_resample(X_train, y_train)\n",
        "\n",
        "print(\"Before Undersampling, counts of label 'Yes': {}\".format(sum(y_train == 1)))\n",
        "print(\"Before Undersampling, counts of label 'No': {} \\n\".format(sum(y_train == 0)))\n",
        "\n",
        "print(\"After Undersampling, counts of label 'Yes': {}\".format(sum(y_train_un == 1)))\n",
        "print(\"After Undersampling, counts of label 'No': {} \\n\".format(sum(y_train_un == 0)))\n",
        "\n",
        "print(\"After Undersampling, the shape of train_X: {}\".format(X_train_un.shape))\n",
        "print(\"After Undersampling, the shape of train_y: {} \\n\".format(y_train_un.shape))"
      ]
    },
    {
      "cell_type": "markdown",
      "id": "38e6c56d-863f-4b73-a1fa-4329b0b9d968",
      "metadata": {
        "tags": [],
        "id": "38e6c56d-863f-4b73-a1fa-4329b0b9d968"
      },
      "source": [
        "## Stratified K-Folds cross-validation"
      ]
    },
    {
      "cell_type": "markdown",
      "id": "3d564583-5dd0-4bae-8d81-66d111755c53",
      "metadata": {
        "id": "3d564583-5dd0-4bae-8d81-66d111755c53"
      },
      "source": [
        "- `Stratified K-Folds cross-validation` provides dataset indices to split data into train/validation sets. Split dataset into k consecutive folds (without shuffling by default) keeping the distribution of both classes in each fold the same as the target variable. Each fold is then used once as validation while the k - 1 remaining folds form the training set."
      ]
    },
    {
      "cell_type": "code",
      "execution_count": null,
      "id": "38e9456f-5c7c-46c7-87c4-856d28888d44",
      "metadata": {
        "id": "38e9456f-5c7c-46c7-87c4-856d28888d44"
      },
      "outputs": [],
      "source": [
        "models_un = []  # Empty list to store all the models\n",
        "\n",
        "# Appending models into the list\n",
        "models_un.append((\"Logistic Regression\", LogisticRegression(random_state=1)))\n",
        "models_un.append((\"Random forest\", RandomForestClassifier(random_state=1)))\n",
        "models_un.append((\"GBM\", GradientBoostingClassifier(random_state=1)))\n",
        "models_un.append((\"Adaboost\", AdaBoostClassifier(random_state=1)))\n",
        "models_un.append((\"Xgboost\", XGBClassifier(random_state=1, eval_metric=\"logloss\")))\n",
        "models_un.append((\"dtree\", DecisionTreeClassifier(random_state=1)))\n",
        "\n",
        "results_un = []  # Empty list to store all model's CV scores\n",
        "names_un = []  # Empty list to store name of the models\n",
        "cv_score_un = [] # Empty list to store all model's mean CV scores\n",
        "cv_std_un = [] # Empty list to store all model's mean CV scores\n",
        "\n",
        "\n",
        "# loop through all models to get the mean cross validated score\n",
        "print(\"\\n\" \"Cross-Validation Performance:\" \"\\n\")\n",
        "\n",
        "for name, model in models_un:\n",
        "    scoring = \"accuracy\"\n",
        "    kfold = StratifiedKFold(\n",
        "        n_splits=10, shuffle=True, random_state=1\n",
        "    )  # Setting number of splits equal to 10\n",
        "    cv_result = cross_val_score(\n",
        "        estimator=model, X=X_train_un, y=y_train_un, scoring=scoring, cv=kfold\n",
        "    )\n",
        "    results_un.append(cv_result)\n",
        "    cv_score_un.append(cv_result.mean() * 100)\n",
        "    cv_std_un.append(cv_result.std() * 100)\n",
        "    names_un.append(name + \" under\")\n",
        "    print(\"{}: {}, {}%\".format(name, cv_result.mean() * 100, cv_result.std() * 100))"
      ]
    },
    {
      "cell_type": "code",
      "execution_count": null,
      "id": "20994271-804e-4cf5-8492-9b68bcc7f56a",
      "metadata": {
        "id": "20994271-804e-4cf5-8492-9b68bcc7f56a"
      },
      "outputs": [],
      "source": [
        "# Plotting boxplots for CV scores of all models defined above\n",
        "fig = plt.figure(figsize=(15, 7))\n",
        "\n",
        "fig.suptitle(\"Algorithm Comparison\")\n",
        "ax = fig.add_subplot(111)\n",
        "\n",
        "plt.boxplot(results_un)\n",
        "ax.set_xticklabels(names_un)\n",
        "\n",
        "plt.show()"
      ]
    },
    {
      "cell_type": "markdown",
      "id": "091f6ef0-1e2e-41ef-8cbd-efe3bb155d92",
      "metadata": {
        "tags": [],
        "id": "091f6ef0-1e2e-41ef-8cbd-efe3bb155d92"
      },
      "source": [
        "## Training Performance"
      ]
    },
    {
      "cell_type": "code",
      "execution_count": null,
      "id": "5ae5cea7-d442-48ec-80f8-84cf6074cb67",
      "metadata": {
        "id": "5ae5cea7-d442-48ec-80f8-84cf6074cb67"
      },
      "outputs": [],
      "source": [
        "print(\"\\n\" \"Training Performance:\" \"\\n\")\n",
        "\n",
        "score_un = []\n",
        "\n",
        "for name, model in models:\n",
        "    model.fit(X_train_un, y_train_un)\n",
        "    scores = accuracy_score(y_train_un, model.predict(X_train_un)) * 100\n",
        "    score_un.append(scores)\n",
        "    print(\"{}: {}\".format(name, scores))"
      ]
    },
    {
      "cell_type": "markdown",
      "id": "f0363e37-863c-486d-a41d-0dbcdcd8a624",
      "metadata": {
        "tags": [],
        "id": "f0363e37-863c-486d-a41d-0dbcdcd8a624"
      },
      "source": [
        "## Summary (Undersampled Models)"
      ]
    },
    {
      "cell_type": "markdown",
      "id": "973064a9-94c9-4e48-9e97-e32e807f7e19",
      "metadata": {
        "id": "973064a9-94c9-4e48-9e97-e32e807f7e19"
      },
      "source": [
        "- We can see that Xgboost is giving the highest cross-validated recall followed by Gradient Boost\n",
        "- The boxplot shows that the performance of xgboost is consistent with no outlier. Gradient Boost follows closely without outliers.\n",
        "- So far, the Performance of Xgboost and Gradient Boost is highest on cross-validation."
      ]
    },
    {
      "cell_type": "markdown",
      "id": "332bc1c0-2b60-4adb-9388-cc9d132e6fc5",
      "metadata": {
        "id": "332bc1c0-2b60-4adb-9388-cc9d132e6fc5"
      },
      "source": [
        "# Hyperparameter tuning using random search"
      ]
    },
    {
      "cell_type": "markdown",
      "id": "7f099b0b-9e3d-4098-968e-c2f1406da24b",
      "metadata": {
        "id": "7f099b0b-9e3d-4098-968e-c2f1406da24b"
      },
      "source": [
        "## Comparing Model Performance\n",
        "\n",
        "So far, 18 models have been built. This section will compare the performance of all the models to choose the best three models that will undergo hyperparameter tuning"
      ]
    },
    {
      "cell_type": "code",
      "execution_count": null,
      "id": "429ea696-65b6-4612-aa94-df68c5a3585b",
      "metadata": {
        "id": "429ea696-65b6-4612-aa94-df68c5a3585b"
      },
      "outputs": [],
      "source": [
        "# Model performance comparison\n",
        "\n",
        "model_comp = pd.DataFrame(list(zip(names + names_over + names_un,\n",
        "                                   score + score_over + score_un,\n",
        "                                   cv_score + cv_score_over + cv_score_un,\n",
        "                                   cv_std + cv_std_over + cv_std_un)\n",
        "                              ),\n",
        "\n",
        "               columns =['Name', 'Training Score', 'CV Score', 'Standard Deviation'])\n",
        "\n",
        "print(\"Model performance comparison:\")\n",
        "\n",
        "# CV score has to be very high while STD has to be very low\n",
        "# New variables Alpha compares all the models\n",
        "# The Higher the Alpha, the better the model\n",
        "\n",
        "# Creation of Alpha\n",
        "model_comp['Alpha'] = model_comp['CV Score']/model_comp['Standard Deviation']\n",
        "\n",
        "# Sort by Alpha and CV Score\n",
        "model_comp.sort_values(by = ['CV Score'], ascending = False)"
      ]
    },
    {
      "cell_type": "markdown",
      "id": "d6941e0a-a6db-468f-81bd-e1e6412bc47b",
      "metadata": {
        "tags": [],
        "id": "d6941e0a-a6db-468f-81bd-e1e6412bc47b"
      },
      "source": [
        "### Summary (All Models)"
      ]
    },
    {
      "cell_type": "markdown",
      "id": "521ce336-4d77-4d11-800a-0c3fa532e2fd",
      "metadata": {
        "id": "521ce336-4d77-4d11-800a-0c3fa532e2fd"
      },
      "source": [
        "- We can see that Xgboost on oversampling is giving the highest cross-validated recall followed by Random Forest on Oversampling.\n",
        "- XGboost on oversampling outperformed all other models in CV Score and stability.\n",
        "- Although Gradient Boost has a slightly lower CV score than Random Forest, It is nire stable than random forest.\n",
        "- So far, the Performance of Xgboost , Random Forest, and Gradient Boost is highest on cross-validation."
      ]
    },
    {
      "cell_type": "markdown",
      "id": "379e15c2-22ed-4f04-aa04-28eed6656f9e",
      "metadata": {
        "id": "379e15c2-22ed-4f04-aa04-28eed6656f9e"
      },
      "source": [
        "## Hyperparameter Tuning"
      ]
    },
    {
      "cell_type": "markdown",
      "id": "677c73e0-cbee-4679-b3e2-a9d9c4d3a4d3",
      "metadata": {
        "id": "677c73e0-cbee-4679-b3e2-a9d9c4d3a4d3"
      },
      "source": [
        "**We will tune Xgboost, Random Forest and Gradient Boost oversampled models using RandomizedSearchCV. We will also compare the performance and time taken by these three methods**"
      ]
    },
    {
      "cell_type": "markdown",
      "id": "ba1d5cc3-b48b-4a6d-8cbb-9b29fb19c7e0",
      "metadata": {
        "id": "ba1d5cc3-b48b-4a6d-8cbb-9b29fb19c7e0"
      },
      "source": [
        "**First, let's create two functions to calculate different metrics and confusion matrix so that we don't have to use the same code repeatedly for each model.**"
      ]
    },
    {
      "cell_type": "code",
      "execution_count": null,
      "id": "99d20ad5-1e17-4f80-a33e-60dc329f9c96",
      "metadata": {
        "id": "99d20ad5-1e17-4f80-a33e-60dc329f9c96"
      },
      "outputs": [],
      "source": [
        "# defining a function to compute different metrics to check performance of a classification model built using sklearn\n",
        "def model_performance_classification_sklearn(model, predictors, target):\n",
        "    \"\"\"\n",
        "    Function to compute different metrics to check classification model performance\n",
        "\n",
        "    model: classifier\n",
        "    predictors: independent variables\n",
        "    target: dependent variable\n",
        "    \"\"\"\n",
        "\n",
        "    # predicting using the independent variables\n",
        "    pred = model.predict(predictors)\n",
        "\n",
        "    acc = accuracy_score(target, pred)  # to compute Accuracy\n",
        "    recall = recall_score(target, pred)  # to compute Recall\n",
        "    precision = precision_score(target, pred)  # to compute Precision\n",
        "    f1 = f1_score(target, pred)  # to compute F1-score\n",
        "\n",
        "    # creating a dataframe of metrics\n",
        "    df_perf = pd.DataFrame(\n",
        "        {\n",
        "            \"Accuracy\": acc,\n",
        "            \"Recall\": recall,\n",
        "            \"Precision\": precision,\n",
        "            \"F1\": f1,\n",
        "        },\n",
        "        index=[0],\n",
        "    )\n",
        "\n",
        "    return df_perf"
      ]
    },
    {
      "cell_type": "code",
      "execution_count": null,
      "id": "656ca41d-2537-48d2-bd07-e7665bb6ba3f",
      "metadata": {
        "id": "656ca41d-2537-48d2-bd07-e7665bb6ba3f"
      },
      "outputs": [],
      "source": [
        "def confusion_matrix_sklearn(model, predictors, target):\n",
        "    \"\"\"\n",
        "    To plot the confusion_matrix with percentages\n",
        "\n",
        "    model: classifier\n",
        "    predictors: independent variables\n",
        "    target: dependent variable\n",
        "    \"\"\"\n",
        "    y_pred = model.predict(predictors)\n",
        "    cm = confusion_matrix(target, y_pred)\n",
        "    labels = np.asarray(\n",
        "        [\n",
        "            [\"{0:0.0f}\".format(item) + \"\\n{0:.2%}\".format(item / cm.flatten().sum())]\n",
        "            for item in cm.flatten()\n",
        "        ]\n",
        "    ).reshape(2, 2)\n",
        "\n",
        "    plt.figure(figsize=(6, 4))\n",
        "    sns.heatmap(cm, annot=labels, fmt=\"\")\n",
        "    plt.ylabel(\"True label\")\n",
        "    plt.xlabel(\"Predicted label\")"
      ]
    },
    {
      "cell_type": "markdown",
      "id": "2c7342e3-1556-47bf-8649-53e2e10608ee",
      "metadata": {
        "id": "2c7342e3-1556-47bf-8649-53e2e10608ee"
      },
      "source": [
        "### Gradient Boost"
      ]
    },
    {
      "cell_type": "code",
      "execution_count": null,
      "id": "6fd37121-3b35-43f0-815e-950058c14ae4",
      "metadata": {
        "id": "6fd37121-3b35-43f0-815e-950058c14ae4"
      },
      "outputs": [],
      "source": [
        "%%time\n",
        "\n",
        "# Choose the type of classifier.\n",
        "model = GradientBoostingClassifier(random_state=1)\n",
        "\n",
        "# Grid of parameters to choose from\n",
        "param_grid = {'n_estimators': np.arange(50,200,25),\n",
        "              'subsample':[0.7,0.8,0.9,1],\n",
        "              'max_features':[0.7,0.8,0.9,1],\n",
        "              'max_depth':[3,5,7,10],\n",
        "}\n",
        "\n",
        "# Type of scoring used to compare parameter combinations\n",
        "scorer = metrics.make_scorer(metrics.accuracy_score)\n",
        "\n",
        "#Calling RandomizedSearchCV\n",
        "randomized_cv = RandomizedSearchCV(estimator=model, param_distributions=param_grid, n_jobs = -1, n_iter=75, scoring=scorer, cv=5, random_state=1)\n",
        "\n",
        "#Fitting parameters in RandomizedSearchCV\n",
        "randomized_cv.fit(X_train,y_train)\n",
        "\n",
        "print(\"Best parameters are {} with CV score={}:\" .format(randomized_cv.best_params_,randomized_cv.best_score_))"
      ]
    },
    {
      "cell_type": "code",
      "execution_count": null,
      "id": "74c011ee-0cfc-4804-bb31-c868d067303c",
      "metadata": {
        "id": "74c011ee-0cfc-4804-bb31-c868d067303c"
      },
      "outputs": [],
      "source": [
        "# building model with best parameters\n",
        "gb_tuned = randomized_cv.best_estimator_\n",
        "\n",
        "# Fit the best algorithm to the data.\n",
        "gb_tuned.fit(X_train,y_train)"
      ]
    },
    {
      "cell_type": "code",
      "execution_count": null,
      "id": "379ca7aa-8b34-4250-9a60-99a142a9389f",
      "metadata": {
        "id": "379ca7aa-8b34-4250-9a60-99a142a9389f"
      },
      "outputs": [],
      "source": [
        "# Calculating different metrics on train set\n",
        "gb_grid_train = model_performance_classification_sklearn(\n",
        "    gb_tuned, X_train,y_train\n",
        ")\n",
        "print(\"Training performance:\")\n",
        "gb_grid_train"
      ]
    },
    {
      "cell_type": "code",
      "execution_count": null,
      "id": "752ecfb0-0d43-4c1f-97a4-d5caa73417e1",
      "metadata": {
        "id": "752ecfb0-0d43-4c1f-97a4-d5caa73417e1"
      },
      "outputs": [],
      "source": [
        "# Calculating different metrics on validation set\n",
        "gb_grid_val = model_performance_classification_sklearn(gb_tuned, X_val, y_val)\n",
        "print(\"Validation performance:\")\n",
        "gb_grid_val"
      ]
    },
    {
      "cell_type": "code",
      "execution_count": null,
      "id": "bd934570-3bfc-4f81-bbf8-19545113eefb",
      "metadata": {
        "id": "bd934570-3bfc-4f81-bbf8-19545113eefb"
      },
      "outputs": [],
      "source": [
        "# creating confusion matrix\n",
        "confusion_matrix_sklearn(gb_tuned, X_val, y_val)"
      ]
    },
    {
      "cell_type": "markdown",
      "id": "d7747ede-39ee-4b93-95ea-def749112dbc",
      "metadata": {
        "id": "d7747ede-39ee-4b93-95ea-def749112dbc"
      },
      "source": [
        "* The model is slightly overfitting"
      ]
    },
    {
      "cell_type": "markdown",
      "id": "7e65f323-bb39-4b52-8870-cccb9c546fc2",
      "metadata": {
        "id": "7e65f323-bb39-4b52-8870-cccb9c546fc2"
      },
      "source": [
        "### XGBoost"
      ]
    },
    {
      "cell_type": "code",
      "execution_count": null,
      "id": "0db67109-bd3d-415f-89f8-7491a9be6786",
      "metadata": {
        "colab": {
          "base_uri": "https://localhost:8080/"
        },
        "id": "0db67109-bd3d-415f-89f8-7491a9be6786",
        "outputId": "cb89f08c-e0d0-43c7-98da-aaee54cd2f14"
      },
      "outputs": [
        {
          "output_type": "stream",
          "name": "stdout",
          "text": [
            "Best parameters are {'subsample': 1, 'scale_pos_weight': 5, 'reg_lambda': 10, 'n_estimators': 100, 'max_depth': 3, 'learning_rate': 0.2, 'gamma': 5} with CV score=0.9976279339802604:\n",
            "CPU times: user 15.6 s, sys: 951 ms, total: 16.6 s\n",
            "Wall time: 19min 15s\n"
          ]
        }
      ],
      "source": [
        "%%time\n",
        "\n",
        "# defining model\n",
        "model = XGBClassifier(random_state=1,eval_metric='logloss')\n",
        "\n",
        "# Parameter grid to pass in RandomizedSearchCV\n",
        "param_grid={'n_estimators':np.arange(50,150,50),\n",
        "            'scale_pos_weight':[2,5,10],\n",
        "            'learning_rate':[0.01,0.1,0.2,0.05],\n",
        "            'gamma':[0,1,3,5],\n",
        "            'subsample':[0.8,0.9,1],\n",
        "            'max_depth':np.arange(1,5,1),\n",
        "            'reg_lambda':[5,10]}\n",
        "\n",
        "# Type of scoring used to compare parameter combinations\n",
        "scorer = metrics.make_scorer(metrics.accuracy_score)\n",
        "\n",
        "#Calling RandomizedSearchCV\n",
        "xgb_tunedCV = RandomizedSearchCV(estimator=model, param_distributions=param_grid, n_iter=50, scoring=scorer, cv=5, random_state=1, n_jobs = -1)\n",
        "\n",
        "#Fitting parameters in RandomizedSearchCV\n",
        "xgb_tunedCV.fit(X_train,y_train)\n",
        "\n",
        "print(\"Best parameters are {} with CV score={}:\" .format(xgb_tunedCV.best_params_,xgb_tunedCV.best_score_))"
      ]
    },
    {
      "cell_type": "code",
      "execution_count": null,
      "id": "960e65ee-8fa6-4c20-8598-97c089e76aa7",
      "metadata": {
        "colab": {
          "base_uri": "https://localhost:8080/"
        },
        "id": "960e65ee-8fa6-4c20-8598-97c089e76aa7",
        "outputId": "fb940cdb-28b2-4c25-b80f-bf234a1c8b05"
      },
      "outputs": [
        {
          "output_type": "execute_result",
          "data": {
            "text/plain": [
              "XGBClassifier(base_score=0.5, booster='gbtree', colsample_bylevel=1,\n",
              "              colsample_bynode=1, colsample_bytree=1, enable_categorical=False,\n",
              "              eval_metric='logloss', gamma=5, gpu_id=-1, importance_type=None,\n",
              "              interaction_constraints='', learning_rate=0.2, max_delta_step=0,\n",
              "              max_depth=3, min_child_weight=1, missing=nan,\n",
              "              monotone_constraints='()', n_estimators=100, n_jobs=2,\n",
              "              num_parallel_tree=1, predictor='auto', random_state=1,\n",
              "              reg_alpha=0, reg_lambda=10, scale_pos_weight=5, subsample=1,\n",
              "              tree_method='exact', validate_parameters=1, verbosity=None)"
            ]
          },
          "metadata": {},
          "execution_count": 91
        }
      ],
      "source": [
        "# building model with best parameters\n",
        "xgb_tuned2 = xgb_tunedCV.best_estimator_\n",
        "\n",
        "# Fit the model on training data\n",
        "xgb_tuned2.fit(X_train, y_train)"
      ]
    },
    {
      "cell_type": "code",
      "execution_count": null,
      "id": "4c2dc88b-aa8a-4916-8ad1-a9f4237b3351",
      "metadata": {
        "colab": {
          "base_uri": "https://localhost:8080/",
          "height": 98
        },
        "id": "4c2dc88b-aa8a-4916-8ad1-a9f4237b3351",
        "outputId": "91316827-a043-4740-ec1f-e6f628038d9e"
      },
      "outputs": [
        {
          "output_type": "stream",
          "name": "stdout",
          "text": [
            "Training performance:\n"
          ]
        },
        {
          "output_type": "execute_result",
          "data": {
            "text/plain": [
              "   Accuracy  Recall  Precision    F1\n",
              "0     0.998   0.995      1.000 0.998"
            ],
            "text/html": [
              "\n",
              "  <div id=\"df-c3f7c0a0-045c-4731-b122-08315aea10bb\">\n",
              "    <div class=\"colab-df-container\">\n",
              "      <div>\n",
              "<style scoped>\n",
              "    .dataframe tbody tr th:only-of-type {\n",
              "        vertical-align: middle;\n",
              "    }\n",
              "\n",
              "    .dataframe tbody tr th {\n",
              "        vertical-align: top;\n",
              "    }\n",
              "\n",
              "    .dataframe thead th {\n",
              "        text-align: right;\n",
              "    }\n",
              "</style>\n",
              "<table border=\"1\" class=\"dataframe\">\n",
              "  <thead>\n",
              "    <tr style=\"text-align: right;\">\n",
              "      <th></th>\n",
              "      <th>Accuracy</th>\n",
              "      <th>Recall</th>\n",
              "      <th>Precision</th>\n",
              "      <th>F1</th>\n",
              "    </tr>\n",
              "  </thead>\n",
              "  <tbody>\n",
              "    <tr>\n",
              "      <th>0</th>\n",
              "      <td>0.998</td>\n",
              "      <td>0.995</td>\n",
              "      <td>1.000</td>\n",
              "      <td>0.998</td>\n",
              "    </tr>\n",
              "  </tbody>\n",
              "</table>\n",
              "</div>\n",
              "      <button class=\"colab-df-convert\" onclick=\"convertToInteractive('df-c3f7c0a0-045c-4731-b122-08315aea10bb')\"\n",
              "              title=\"Convert this dataframe to an interactive table.\"\n",
              "              style=\"display:none;\">\n",
              "        \n",
              "  <svg xmlns=\"http://www.w3.org/2000/svg\" height=\"24px\"viewBox=\"0 0 24 24\"\n",
              "       width=\"24px\">\n",
              "    <path d=\"M0 0h24v24H0V0z\" fill=\"none\"/>\n",
              "    <path d=\"M18.56 5.44l.94 2.06.94-2.06 2.06-.94-2.06-.94-.94-2.06-.94 2.06-2.06.94zm-11 1L8.5 8.5l.94-2.06 2.06-.94-2.06-.94L8.5 2.5l-.94 2.06-2.06.94zm10 10l.94 2.06.94-2.06 2.06-.94-2.06-.94-.94-2.06-.94 2.06-2.06.94z\"/><path d=\"M17.41 7.96l-1.37-1.37c-.4-.4-.92-.59-1.43-.59-.52 0-1.04.2-1.43.59L10.3 9.45l-7.72 7.72c-.78.78-.78 2.05 0 2.83L4 21.41c.39.39.9.59 1.41.59.51 0 1.02-.2 1.41-.59l7.78-7.78 2.81-2.81c.8-.78.8-2.07 0-2.86zM5.41 20L4 18.59l7.72-7.72 1.47 1.35L5.41 20z\"/>\n",
              "  </svg>\n",
              "      </button>\n",
              "      \n",
              "  <style>\n",
              "    .colab-df-container {\n",
              "      display:flex;\n",
              "      flex-wrap:wrap;\n",
              "      gap: 12px;\n",
              "    }\n",
              "\n",
              "    .colab-df-convert {\n",
              "      background-color: #E8F0FE;\n",
              "      border: none;\n",
              "      border-radius: 50%;\n",
              "      cursor: pointer;\n",
              "      display: none;\n",
              "      fill: #1967D2;\n",
              "      height: 32px;\n",
              "      padding: 0 0 0 0;\n",
              "      width: 32px;\n",
              "    }\n",
              "\n",
              "    .colab-df-convert:hover {\n",
              "      background-color: #E2EBFA;\n",
              "      box-shadow: 0px 1px 2px rgba(60, 64, 67, 0.3), 0px 1px 3px 1px rgba(60, 64, 67, 0.15);\n",
              "      fill: #174EA6;\n",
              "    }\n",
              "\n",
              "    [theme=dark] .colab-df-convert {\n",
              "      background-color: #3B4455;\n",
              "      fill: #D2E3FC;\n",
              "    }\n",
              "\n",
              "    [theme=dark] .colab-df-convert:hover {\n",
              "      background-color: #434B5C;\n",
              "      box-shadow: 0px 1px 3px 1px rgba(0, 0, 0, 0.15);\n",
              "      filter: drop-shadow(0px 1px 2px rgba(0, 0, 0, 0.3));\n",
              "      fill: #FFFFFF;\n",
              "    }\n",
              "  </style>\n",
              "\n",
              "      <script>\n",
              "        const buttonEl =\n",
              "          document.querySelector('#df-c3f7c0a0-045c-4731-b122-08315aea10bb button.colab-df-convert');\n",
              "        buttonEl.style.display =\n",
              "          google.colab.kernel.accessAllowed ? 'block' : 'none';\n",
              "\n",
              "        async function convertToInteractive(key) {\n",
              "          const element = document.querySelector('#df-c3f7c0a0-045c-4731-b122-08315aea10bb');\n",
              "          const dataTable =\n",
              "            await google.colab.kernel.invokeFunction('convertToInteractive',\n",
              "                                                     [key], {});\n",
              "          if (!dataTable) return;\n",
              "\n",
              "          const docLinkHtml = 'Like what you see? Visit the ' +\n",
              "            '<a target=\"_blank\" href=https://colab.research.google.com/notebooks/data_table.ipynb>data table notebook</a>'\n",
              "            + ' to learn more about interactive tables.';\n",
              "          element.innerHTML = '';\n",
              "          dataTable['output_type'] = 'display_data';\n",
              "          await google.colab.output.renderOutput(dataTable, element);\n",
              "          const docLink = document.createElement('div');\n",
              "          docLink.innerHTML = docLinkHtml;\n",
              "          element.appendChild(docLink);\n",
              "        }\n",
              "      </script>\n",
              "    </div>\n",
              "  </div>\n",
              "  "
            ]
          },
          "metadata": {},
          "execution_count": 92
        }
      ],
      "source": [
        "# Calculating different metrics on train set\n",
        "xgboost_random_train = model_performance_classification_sklearn(\n",
        "    xgb_tuned2, X_train,y_train\n",
        ")\n",
        "print(\"Training performance:\")\n",
        "xgboost_random_train"
      ]
    },
    {
      "cell_type": "code",
      "execution_count": null,
      "id": "7fc72092-fa6e-495b-94e7-3b1123affe86",
      "metadata": {
        "colab": {
          "base_uri": "https://localhost:8080/",
          "height": 98
        },
        "id": "7fc72092-fa6e-495b-94e7-3b1123affe86",
        "outputId": "f65d060e-18b3-4741-845f-28e5db0ab484"
      },
      "outputs": [
        {
          "output_type": "stream",
          "name": "stdout",
          "text": [
            "Validation performance:\n"
          ]
        },
        {
          "output_type": "execute_result",
          "data": {
            "text/plain": [
              "   Accuracy  Recall  Precision    F1\n",
              "0     0.998   0.995      1.000 0.998"
            ],
            "text/html": [
              "\n",
              "  <div id=\"df-3ceb3fae-82ef-41fc-97e9-526bec3f9b21\">\n",
              "    <div class=\"colab-df-container\">\n",
              "      <div>\n",
              "<style scoped>\n",
              "    .dataframe tbody tr th:only-of-type {\n",
              "        vertical-align: middle;\n",
              "    }\n",
              "\n",
              "    .dataframe tbody tr th {\n",
              "        vertical-align: top;\n",
              "    }\n",
              "\n",
              "    .dataframe thead th {\n",
              "        text-align: right;\n",
              "    }\n",
              "</style>\n",
              "<table border=\"1\" class=\"dataframe\">\n",
              "  <thead>\n",
              "    <tr style=\"text-align: right;\">\n",
              "      <th></th>\n",
              "      <th>Accuracy</th>\n",
              "      <th>Recall</th>\n",
              "      <th>Precision</th>\n",
              "      <th>F1</th>\n",
              "    </tr>\n",
              "  </thead>\n",
              "  <tbody>\n",
              "    <tr>\n",
              "      <th>0</th>\n",
              "      <td>0.998</td>\n",
              "      <td>0.995</td>\n",
              "      <td>1.000</td>\n",
              "      <td>0.998</td>\n",
              "    </tr>\n",
              "  </tbody>\n",
              "</table>\n",
              "</div>\n",
              "      <button class=\"colab-df-convert\" onclick=\"convertToInteractive('df-3ceb3fae-82ef-41fc-97e9-526bec3f9b21')\"\n",
              "              title=\"Convert this dataframe to an interactive table.\"\n",
              "              style=\"display:none;\">\n",
              "        \n",
              "  <svg xmlns=\"http://www.w3.org/2000/svg\" height=\"24px\"viewBox=\"0 0 24 24\"\n",
              "       width=\"24px\">\n",
              "    <path d=\"M0 0h24v24H0V0z\" fill=\"none\"/>\n",
              "    <path d=\"M18.56 5.44l.94 2.06.94-2.06 2.06-.94-2.06-.94-.94-2.06-.94 2.06-2.06.94zm-11 1L8.5 8.5l.94-2.06 2.06-.94-2.06-.94L8.5 2.5l-.94 2.06-2.06.94zm10 10l.94 2.06.94-2.06 2.06-.94-2.06-.94-.94-2.06-.94 2.06-2.06.94z\"/><path d=\"M17.41 7.96l-1.37-1.37c-.4-.4-.92-.59-1.43-.59-.52 0-1.04.2-1.43.59L10.3 9.45l-7.72 7.72c-.78.78-.78 2.05 0 2.83L4 21.41c.39.39.9.59 1.41.59.51 0 1.02-.2 1.41-.59l7.78-7.78 2.81-2.81c.8-.78.8-2.07 0-2.86zM5.41 20L4 18.59l7.72-7.72 1.47 1.35L5.41 20z\"/>\n",
              "  </svg>\n",
              "      </button>\n",
              "      \n",
              "  <style>\n",
              "    .colab-df-container {\n",
              "      display:flex;\n",
              "      flex-wrap:wrap;\n",
              "      gap: 12px;\n",
              "    }\n",
              "\n",
              "    .colab-df-convert {\n",
              "      background-color: #E8F0FE;\n",
              "      border: none;\n",
              "      border-radius: 50%;\n",
              "      cursor: pointer;\n",
              "      display: none;\n",
              "      fill: #1967D2;\n",
              "      height: 32px;\n",
              "      padding: 0 0 0 0;\n",
              "      width: 32px;\n",
              "    }\n",
              "\n",
              "    .colab-df-convert:hover {\n",
              "      background-color: #E2EBFA;\n",
              "      box-shadow: 0px 1px 2px rgba(60, 64, 67, 0.3), 0px 1px 3px 1px rgba(60, 64, 67, 0.15);\n",
              "      fill: #174EA6;\n",
              "    }\n",
              "\n",
              "    [theme=dark] .colab-df-convert {\n",
              "      background-color: #3B4455;\n",
              "      fill: #D2E3FC;\n",
              "    }\n",
              "\n",
              "    [theme=dark] .colab-df-convert:hover {\n",
              "      background-color: #434B5C;\n",
              "      box-shadow: 0px 1px 3px 1px rgba(0, 0, 0, 0.15);\n",
              "      filter: drop-shadow(0px 1px 2px rgba(0, 0, 0, 0.3));\n",
              "      fill: #FFFFFF;\n",
              "    }\n",
              "  </style>\n",
              "\n",
              "      <script>\n",
              "        const buttonEl =\n",
              "          document.querySelector('#df-3ceb3fae-82ef-41fc-97e9-526bec3f9b21 button.colab-df-convert');\n",
              "        buttonEl.style.display =\n",
              "          google.colab.kernel.accessAllowed ? 'block' : 'none';\n",
              "\n",
              "        async function convertToInteractive(key) {\n",
              "          const element = document.querySelector('#df-3ceb3fae-82ef-41fc-97e9-526bec3f9b21');\n",
              "          const dataTable =\n",
              "            await google.colab.kernel.invokeFunction('convertToInteractive',\n",
              "                                                     [key], {});\n",
              "          if (!dataTable) return;\n",
              "\n",
              "          const docLinkHtml = 'Like what you see? Visit the ' +\n",
              "            '<a target=\"_blank\" href=https://colab.research.google.com/notebooks/data_table.ipynb>data table notebook</a>'\n",
              "            + ' to learn more about interactive tables.';\n",
              "          element.innerHTML = '';\n",
              "          dataTable['output_type'] = 'display_data';\n",
              "          await google.colab.output.renderOutput(dataTable, element);\n",
              "          const docLink = document.createElement('div');\n",
              "          docLink.innerHTML = docLinkHtml;\n",
              "          element.appendChild(docLink);\n",
              "        }\n",
              "      </script>\n",
              "    </div>\n",
              "  </div>\n",
              "  "
            ]
          },
          "metadata": {},
          "execution_count": 93
        }
      ],
      "source": [
        "# Calculating different metrics on validation set\n",
        "xgboost_random_val = model_performance_classification_sklearn(xgb_tuned2, X_val, y_val)\n",
        "print(\"Validation performance:\")\n",
        "xgboost_random_val"
      ]
    },
    {
      "cell_type": "code",
      "execution_count": null,
      "id": "ac63e9f4-f406-45d3-a736-667226ef7f5b",
      "metadata": {
        "colab": {
          "base_uri": "https://localhost:8080/",
          "height": 279
        },
        "id": "ac63e9f4-f406-45d3-a736-667226ef7f5b",
        "outputId": "56515291-ff49-4c4f-fcd6-bdbd990ea7a1"
      },
      "outputs": [
        {
          "output_type": "display_data",
          "data": {
            "text/plain": [
              "<Figure size 432x288 with 2 Axes>"
            ],
            "image/png": "[encoded data removed]"
          },
          "metadata": {
            "needs_background": "light"
          }
        }
      ],
      "source": [
        "# creating confusion matrix\n",
        "confusion_matrix_sklearn(xgb_tuned2, X_val, y_val)"
      ]
    },
    {
      "cell_type": "markdown",
      "id": "7192c874-06b9-4d42-8ae2-03ab85b5baf2",
      "metadata": {
        "id": "7192c874-06b9-4d42-8ae2-03ab85b5baf2"
      },
      "source": [
        "* The model is rightly fitted"
      ]
    },
    {
      "cell_type": "markdown",
      "id": "211beacd-5271-4f52-b4fb-1228dc529fbc",
      "metadata": {
        "id": "211beacd-5271-4f52-b4fb-1228dc529fbc"
      },
      "source": [
        "### XGBoost Oversampled"
      ]
    },
    {
      "cell_type": "code",
      "execution_count": null,
      "id": "eb6a8bf4-4a20-4390-95a8-c3b031141898",
      "metadata": {
        "id": "eb6a8bf4-4a20-4390-95a8-c3b031141898"
      },
      "outputs": [],
      "source": [
        "# Choose the type of classifier.\n",
        "xgb_tuned = XGBClassifier(random_state=1,eval_metric='logloss')\n",
        "\n",
        "# Grid of parameters to choose from\n",
        "parameters = {'n_estimators': Integer(50,300),\n",
        "              'subsample':Real(0.5,1.0),\n",
        "              'gamma': Real(1e-6, 1e+1, prior='log-uniform'),\n",
        "              'colsample_bytree':Real(0.5,1.0),\n",
        "              'colsample_bylevel':Real(0.5,1.0),\n",
        "              'min_child_weight':Real(0,10),\n",
        "              'max_depth':Integer(0,10),\n",
        "              'learning_rate': Real(1e-4, 1e+1, prior='log-uniform'),\n",
        "              'scale_pos_weight':Real(0,10),\n",
        "              'reg_lambda': Real(1e-6, 1e+1, prior='log-uniform'),\n",
        "              }\n",
        "\n",
        "bayes_search = BayesSearchCV(\n",
        "    xgb_tuned,\n",
        "    parameters,\n",
        "    n_iter=100,\n",
        "    cv=5,\n",
        "    scoring = 'accuracy'\n",
        ")\n",
        "bayes_search.fit(X_train, y_train)\n",
        "\n",
        "print(\"Best parameters are {} with CV score={}:\" .format(bayes_search.best_params_,bayes_search.best_score_))"
      ]
    },
    {
      "cell_type": "code",
      "execution_count": null,
      "id": "52809183-82e5-4a5d-8f90-e9d17e2a5f63",
      "metadata": {
        "id": "52809183-82e5-4a5d-8f90-e9d17e2a5f63"
      },
      "outputs": [],
      "source": [
        "bayes_search.best_params_"
      ]
    },
    {
      "cell_type": "code",
      "execution_count": null,
      "id": "2de059ff-a33d-4d6b-aeba-3ff9c7226370",
      "metadata": {
        "id": "2de059ff-a33d-4d6b-aeba-3ff9c7226370"
      },
      "outputs": [],
      "source": [
        "# building model with best parameters\n",
        "xgb_tuned = bayes_search.best_estimator_\n",
        "\n",
        "# Fit the model on training data\n",
        "xgb_tuned.fit(X_train, y_train)"
      ]
    },
    {
      "cell_type": "code",
      "execution_count": null,
      "id": "fce8da8e-6fac-4180-8869-c0a23d3cb8bf",
      "metadata": {
        "id": "fce8da8e-6fac-4180-8869-c0a23d3cb8bf"
      },
      "outputs": [],
      "source": [
        "# Calculating different metrics on train set\n",
        "xgboost_random_train_bayes = model_performance_classification_sklearn(\n",
        "    xgb_tuned, X_train, y_train\n",
        ")\n",
        "print(\"Training performance:\")\n",
        "xgboost_random_train_bayes"
      ]
    },
    {
      "cell_type": "code",
      "execution_count": null,
      "id": "8cd03410-58c7-47cd-8c7e-e78a03c16a16",
      "metadata": {
        "id": "8cd03410-58c7-47cd-8c7e-e78a03c16a16"
      },
      "outputs": [],
      "source": [
        "# Calculating different metrics on validation set\n",
        "xgboost_random_val_bayes = model_performance_classification_sklearn(xgb_tuned, X_val, y_val)\n",
        "print(\"Validation performance:\")\n",
        "xgboost_random_val_bayes"
      ]
    },
    {
      "cell_type": "code",
      "execution_count": null,
      "id": "eae92ddc-3716-4a09-82e4-39217bd628ce",
      "metadata": {
        "id": "eae92ddc-3716-4a09-82e4-39217bd628ce"
      },
      "outputs": [],
      "source": [
        "# creating confusion matrix\n",
        "confusion_matrix_sklearn(xgb_tuned, X_val, y_val)"
      ]
    },
    {
      "cell_type": "markdown",
      "id": "f1d31456-1443-4ded-9318-7d0d2145eb0f",
      "metadata": {
        "id": "f1d31456-1443-4ded-9318-7d0d2145eb0f"
      },
      "source": [
        "* The model is rightly fitted"
      ]
    },
    {
      "cell_type": "markdown",
      "id": "c27e93f4-f6a6-484a-8284-58d816dbc09d",
      "metadata": {
        "tags": [],
        "id": "c27e93f4-f6a6-484a-8284-58d816dbc09d"
      },
      "source": [
        "# Model Performances"
      ]
    },
    {
      "cell_type": "markdown",
      "id": "9f2900c9-2594-4848-bf89-f03577c72549",
      "metadata": {
        "tags": [],
        "id": "9f2900c9-2594-4848-bf89-f03577c72549"
      },
      "source": [
        "## Comparing best three tuned Models"
      ]
    },
    {
      "cell_type": "code",
      "execution_count": null,
      "id": "256c2228-3fa5-4cf8-9b78-e77121aeb668",
      "metadata": {
        "id": "256c2228-3fa5-4cf8-9b78-e77121aeb668"
      },
      "outputs": [],
      "source": [
        "# training performance comparison\n",
        "\n",
        "models_train_comp_df = pd.concat(\n",
        "    [\n",
        "        gb_grid_train.T,\n",
        "        xgboost_random_train.T,\n",
        "        xgboost_random_train_bayes.T,\n",
        "    ],\n",
        "    axis=1,\n",
        ")\n",
        "models_train_comp_df.columns = [\n",
        "    \"Gradient Boost Tuned with Random search\",\n",
        "    \"Xgboost Tuned with Random search\",\n",
        "    \"Xgboost Tuned with Bayes search\",\n",
        "]\n",
        "print(\"Training performance comparison:\")\n",
        "models_train_comp_df"
      ]
    },
    {
      "cell_type": "code",
      "execution_count": null,
      "id": "294a1425-4c81-4b06-8cd5-c57cef2a3cfe",
      "metadata": {
        "id": "294a1425-4c81-4b06-8cd5-c57cef2a3cfe"
      },
      "outputs": [],
      "source": [
        "# Validation performance comparison\n",
        "\n",
        "models_val_comp_df = pd.concat(\n",
        "    [\n",
        "        gb_grid_val.T,\n",
        "        xgboost_random_val.T,\n",
        "        xgboost_random_val_bayes.T,\n",
        "    ],\n",
        "    axis=1,\n",
        ")\n",
        "models_val_comp_df.columns = [\n",
        "    \"Gradient Boost Tuned with Random search\",\n",
        "    \"Xgboost Tuned with Random search\",\n",
        "    \"Xgboost Tuned with Bayes search\",\n",
        "]\n",
        "print(\"Validation performance comparison:\")\n",
        "models_val_comp_df"
      ]
    },
    {
      "cell_type": "markdown",
      "id": "dbbf7e19-ab8e-4a0c-9e73-ce6612b301d6",
      "metadata": {
        "id": "dbbf7e19-ab8e-4a0c-9e73-ce6612b301d6"
      },
      "source": [
        "- The xgboost model tuned using Grid search is giving the best validation recall of 0.985 but it has the low values of train and validation precision.\n",
        "- Let's check the model's performance on test set and then see the feature importance from the tuned xgboost model"
      ]
    },
    {
      "cell_type": "markdown",
      "id": "3b235e1e-e342-439f-b9bb-1bac911718b8",
      "metadata": {
        "tags": [],
        "id": "3b235e1e-e342-439f-b9bb-1bac911718b8"
      },
      "source": [
        "## Best Model Performance on the test set"
      ]
    },
    {
      "cell_type": "code",
      "execution_count": null,
      "id": "8f002db3-c55f-4f12-8038-32a59775d889",
      "metadata": {
        "id": "8f002db3-c55f-4f12-8038-32a59775d889"
      },
      "outputs": [],
      "source": [
        "# Calculating different metrics on the test set\n",
        "xgboost_grid_test = model_performance_classification_sklearn(xgb_tuned, X_test, y_test)\n",
        "print(\"Test performance:\")\n",
        "xgboost_grid_test"
      ]
    },
    {
      "cell_type": "markdown",
      "id": "d0a1c406-c035-441b-9c05-0a9c8f63ecbc",
      "metadata": {
        "id": "d0a1c406-c035-441b-9c05-0a9c8f63ecbc"
      },
      "source": [
        "- The performance on test data is generalised"
      ]
    },
    {
      "cell_type": "code",
      "execution_count": null,
      "id": "37eadf8d-ef87-4583-be76-796accb7e4f7",
      "metadata": {
        "id": "37eadf8d-ef87-4583-be76-796accb7e4f7"
      },
      "outputs": [],
      "source": [
        "feature_names = X_train.columns\n",
        "importances = xgb_tuned.feature_importances_\n",
        "indices = np.argsort(importances)\n",
        "\n",
        "plt.figure(figsize=(12, 12))\n",
        "plt.title(\"Feature Importances\")\n",
        "plt.barh(range(len(indices)), importances[indices], color=\"violet\", align=\"center\")\n",
        "plt.yticks(range(len(indices)), [feature_names[i] for i in indices])\n",
        "plt.xlabel(\"Relative Importance\")\n",
        "plt.show()"
      ]
    },
    {
      "cell_type": "markdown",
      "id": "5f705c7d-94ff-40d5-8356-0298ec620adc",
      "metadata": {
        "tags": [],
        "id": "5f705c7d-94ff-40d5-8356-0298ec620adc"
      },
      "source": [
        "# Retrain Model for Production"
      ]
    },
    {
      "cell_type": "code",
      "execution_count": null,
      "id": "301f05ac-c48a-4376-aebd-7a365e8d270c",
      "metadata": {
        "colab": {
          "base_uri": "https://localhost:8080/"
        },
        "id": "301f05ac-c48a-4376-aebd-7a365e8d270c",
        "outputId": "ba439ab8-89cd-4440-9967-0b4a06830511"
      },
      "outputs": [
        {
          "output_type": "stream",
          "name": "stdout",
          "text": [
            "(95452, 22) (5024, 22)\n"
          ]
        }
      ],
      "source": [
        "# Splitting the data into train and test sets\n",
        "X_train_fn, X_test_fn, y_train_fn, y_test_fn = train_test_split(\n",
        "    X, y, test_size=0.05, random_state=1, stratify=y\n",
        ")\n",
        "print(X_train_fn.shape, X_test_fn.shape)"
      ]
    },
    {
      "cell_type": "code",
      "execution_count": null,
      "id": "0d2322cf-7a34-4a32-9caf-7ab1352b9660",
      "metadata": {
        "id": "0d2322cf-7a34-4a32-9caf-7ab1352b9660"
      },
      "outputs": [],
      "source": [
        "xgb_final = XGBClassifier(base_score=0.5, booster='gbtree', colsample_bylevel=1,\n",
        "              colsample_bynode=1, colsample_bytree=1, enable_categorical=False,\n",
        "              eval_metric='logloss', gamma=5, gpu_id=-1, importance_type=None,\n",
        "              interaction_constraints='', learning_rate=0.2, max_delta_step=0,\n",
        "              max_depth=3, min_child_weight=1,\n",
        "              monotone_constraints='()', n_estimators=100, n_jobs=2,\n",
        "              num_parallel_tree=1, predictor='auto', random_state=1,\n",
        "              reg_alpha=0, reg_lambda=10, scale_pos_weight=5, subsample=1,\n",
        "              tree_method='exact', validate_parameters=1, verbosity=None)"
      ]
    },
    {
      "cell_type": "code",
      "source": [
        "xgb_final = XGBClassifier(eval_metric='logloss')"
      ],
      "metadata": {
        "id": "X86nRd4zWzun"
      },
      "id": "X86nRd4zWzun",
      "execution_count": null,
      "outputs": []
    },
    {
      "cell_type": "code",
      "execution_count": null,
      "id": "17f3b69f-2fbf-4620-955a-f261689a51db",
      "metadata": {
        "colab": {
          "base_uri": "https://localhost:8080/"
        },
        "id": "17f3b69f-2fbf-4620-955a-f261689a51db",
        "outputId": "99b4ffa3-051a-4a22-bc48-81758271fd79"
      },
      "outputs": [
        {
          "output_type": "execute_result",
          "data": {
            "text/plain": [
              "XGBClassifier(base_score=0.5, booster='gbtree', colsample_bylevel=1,\n",
              "              colsample_bynode=1, colsample_bytree=1, enable_categorical=False,\n",
              "              eval_metric='logloss', gamma=0, gpu_id=-1, importance_type=None,\n",
              "              interaction_constraints='', learning_rate=0.300000012,\n",
              "              max_delta_step=0, max_depth=6, min_child_weight=1, missing=nan,\n",
              "              monotone_constraints='()', n_estimators=100, n_jobs=2,\n",
              "              num_parallel_tree=1, predictor='auto', random_state=0,\n",
              "              reg_alpha=0, reg_lambda=1, scale_pos_weight=1, subsample=1,\n",
              "              tree_method='exact', validate_parameters=1, verbosity=None)"
            ]
          },
          "metadata": {},
          "execution_count": 98
        }
      ],
      "source": [
        "# Fit the model on training data\n",
        "xgb_final.fit(X_train_fn, y_train_fn)"
      ]
    },
    {
      "cell_type": "code",
      "execution_count": null,
      "id": "acc87478-2e92-46b4-b128-316982860b61",
      "metadata": {
        "colab": {
          "base_uri": "https://localhost:8080/",
          "height": 98
        },
        "id": "acc87478-2e92-46b4-b128-316982860b61",
        "outputId": "f1fa9120-87b3-4c1a-a90d-f53a280a2bca"
      },
      "outputs": [
        {
          "output_type": "stream",
          "name": "stdout",
          "text": [
            "Training performance:\n"
          ]
        },
        {
          "output_type": "execute_result",
          "data": {
            "text/plain": [
              "   Accuracy  Recall  Precision    F1\n",
              "0     0.999   0.997      1.000 0.998"
            ],
            "text/html": [
              "\n",
              "  <div id=\"df-c1bcc88c-2e95-4fa7-b7cf-7ec1762e9ad8\">\n",
              "    <div class=\"colab-df-container\">\n",
              "      <div>\n",
              "<style scoped>\n",
              "    .dataframe tbody tr th:only-of-type {\n",
              "        vertical-align: middle;\n",
              "    }\n",
              "\n",
              "    .dataframe tbody tr th {\n",
              "        vertical-align: top;\n",
              "    }\n",
              "\n",
              "    .dataframe thead th {\n",
              "        text-align: right;\n",
              "    }\n",
              "</style>\n",
              "<table border=\"1\" class=\"dataframe\">\n",
              "  <thead>\n",
              "    <tr style=\"text-align: right;\">\n",
              "      <th></th>\n",
              "      <th>Accuracy</th>\n",
              "      <th>Recall</th>\n",
              "      <th>Precision</th>\n",
              "      <th>F1</th>\n",
              "    </tr>\n",
              "  </thead>\n",
              "  <tbody>\n",
              "    <tr>\n",
              "      <th>0</th>\n",
              "      <td>0.999</td>\n",
              "      <td>0.997</td>\n",
              "      <td>1.000</td>\n",
              "      <td>0.998</td>\n",
              "    </tr>\n",
              "  </tbody>\n",
              "</table>\n",
              "</div>\n",
              "      <button class=\"colab-df-convert\" onclick=\"convertToInteractive('df-c1bcc88c-2e95-4fa7-b7cf-7ec1762e9ad8')\"\n",
              "              title=\"Convert this dataframe to an interactive table.\"\n",
              "              style=\"display:none;\">\n",
              "        \n",
              "  <svg xmlns=\"http://www.w3.org/2000/svg\" height=\"24px\"viewBox=\"0 0 24 24\"\n",
              "       width=\"24px\">\n",
              "    <path d=\"M0 0h24v24H0V0z\" fill=\"none\"/>\n",
              "    <path d=\"M18.56 5.44l.94 2.06.94-2.06 2.06-.94-2.06-.94-.94-2.06-.94 2.06-2.06.94zm-11 1L8.5 8.5l.94-2.06 2.06-.94-2.06-.94L8.5 2.5l-.94 2.06-2.06.94zm10 10l.94 2.06.94-2.06 2.06-.94-2.06-.94-.94-2.06-.94 2.06-2.06.94z\"/><path d=\"M17.41 7.96l-1.37-1.37c-.4-.4-.92-.59-1.43-.59-.52 0-1.04.2-1.43.59L10.3 9.45l-7.72 7.72c-.78.78-.78 2.05 0 2.83L4 21.41c.39.39.9.59 1.41.59.51 0 1.02-.2 1.41-.59l7.78-7.78 2.81-2.81c.8-.78.8-2.07 0-2.86zM5.41 20L4 18.59l7.72-7.72 1.47 1.35L5.41 20z\"/>\n",
              "  </svg>\n",
              "      </button>\n",
              "      \n",
              "  <style>\n",
              "    .colab-df-container {\n",
              "      display:flex;\n",
              "      flex-wrap:wrap;\n",
              "      gap: 12px;\n",
              "    }\n",
              "\n",
              "    .colab-df-convert {\n",
              "      background-color: #E8F0FE;\n",
              "      border: none;\n",
              "      border-radius: 50%;\n",
              "      cursor: pointer;\n",
              "      display: none;\n",
              "      fill: #1967D2;\n",
              "      height: 32px;\n",
              "      padding: 0 0 0 0;\n",
              "      width: 32px;\n",
              "    }\n",
              "\n",
              "    .colab-df-convert:hover {\n",
              "      background-color: #E2EBFA;\n",
              "      box-shadow: 0px 1px 2px rgba(60, 64, 67, 0.3), 0px 1px 3px 1px rgba(60, 64, 67, 0.15);\n",
              "      fill: #174EA6;\n",
              "    }\n",
              "\n",
              "    [theme=dark] .colab-df-convert {\n",
              "      background-color: #3B4455;\n",
              "      fill: #D2E3FC;\n",
              "    }\n",
              "\n",
              "    [theme=dark] .colab-df-convert:hover {\n",
              "      background-color: #434B5C;\n",
              "      box-shadow: 0px 1px 3px 1px rgba(0, 0, 0, 0.15);\n",
              "      filter: drop-shadow(0px 1px 2px rgba(0, 0, 0, 0.3));\n",
              "      fill: #FFFFFF;\n",
              "    }\n",
              "  </style>\n",
              "\n",
              "      <script>\n",
              "        const buttonEl =\n",
              "          document.querySelector('#df-c1bcc88c-2e95-4fa7-b7cf-7ec1762e9ad8 button.colab-df-convert');\n",
              "        buttonEl.style.display =\n",
              "          google.colab.kernel.accessAllowed ? 'block' : 'none';\n",
              "\n",
              "        async function convertToInteractive(key) {\n",
              "          const element = document.querySelector('#df-c1bcc88c-2e95-4fa7-b7cf-7ec1762e9ad8');\n",
              "          const dataTable =\n",
              "            await google.colab.kernel.invokeFunction('convertToInteractive',\n",
              "                                                     [key], {});\n",
              "          if (!dataTable) return;\n",
              "\n",
              "          const docLinkHtml = 'Like what you see? Visit the ' +\n",
              "            '<a target=\"_blank\" href=https://colab.research.google.com/notebooks/data_table.ipynb>data table notebook</a>'\n",
              "            + ' to learn more about interactive tables.';\n",
              "          element.innerHTML = '';\n",
              "          dataTable['output_type'] = 'display_data';\n",
              "          await google.colab.output.renderOutput(dataTable, element);\n",
              "          const docLink = document.createElement('div');\n",
              "          docLink.innerHTML = docLinkHtml;\n",
              "          element.appendChild(docLink);\n",
              "        }\n",
              "      </script>\n",
              "    </div>\n",
              "  </div>\n",
              "  "
            ]
          },
          "metadata": {},
          "execution_count": 103
        }
      ],
      "source": [
        "# Calculating different metrics on train set\n",
        "xgboost_final_train = model_performance_classification_sklearn(\n",
        "    xgb_final, X_train_fn, y_train_fn\n",
        ")\n",
        "print(\"Training performance:\")\n",
        "xgboost_final_train"
      ]
    },
    {
      "cell_type": "code",
      "execution_count": null,
      "id": "0eec7217-52fd-4e8e-a9b8-c5476afcfe46",
      "metadata": {
        "colab": {
          "base_uri": "https://localhost:8080/",
          "height": 98
        },
        "id": "0eec7217-52fd-4e8e-a9b8-c5476afcfe46",
        "outputId": "f674f436-d495-487c-89ba-bd3ad171d101"
      },
      "outputs": [
        {
          "output_type": "stream",
          "name": "stdout",
          "text": [
            "Testing performance:\n"
          ]
        },
        {
          "output_type": "execute_result",
          "data": {
            "text/plain": [
              "   Accuracy  Recall  Precision    F1\n",
              "0     0.999   0.997      1.000 0.999"
            ],
            "text/html": [
              "\n",
              "  <div id=\"df-88a4bb0c-bb78-4842-8dc6-74c6cc9e175b\">\n",
              "    <div class=\"colab-df-container\">\n",
              "      <div>\n",
              "<style scoped>\n",
              "    .dataframe tbody tr th:only-of-type {\n",
              "        vertical-align: middle;\n",
              "    }\n",
              "\n",
              "    .dataframe tbody tr th {\n",
              "        vertical-align: top;\n",
              "    }\n",
              "\n",
              "    .dataframe thead th {\n",
              "        text-align: right;\n",
              "    }\n",
              "</style>\n",
              "<table border=\"1\" class=\"dataframe\">\n",
              "  <thead>\n",
              "    <tr style=\"text-align: right;\">\n",
              "      <th></th>\n",
              "      <th>Accuracy</th>\n",
              "      <th>Recall</th>\n",
              "      <th>Precision</th>\n",
              "      <th>F1</th>\n",
              "    </tr>\n",
              "  </thead>\n",
              "  <tbody>\n",
              "    <tr>\n",
              "      <th>0</th>\n",
              "      <td>0.999</td>\n",
              "      <td>0.997</td>\n",
              "      <td>1.000</td>\n",
              "      <td>0.999</td>\n",
              "    </tr>\n",
              "  </tbody>\n",
              "</table>\n",
              "</div>\n",
              "      <button class=\"colab-df-convert\" onclick=\"convertToInteractive('df-88a4bb0c-bb78-4842-8dc6-74c6cc9e175b')\"\n",
              "              title=\"Convert this dataframe to an interactive table.\"\n",
              "              style=\"display:none;\">\n",
              "        \n",
              "  <svg xmlns=\"http://www.w3.org/2000/svg\" height=\"24px\"viewBox=\"0 0 24 24\"\n",
              "       width=\"24px\">\n",
              "    <path d=\"M0 0h24v24H0V0z\" fill=\"none\"/>\n",
              "    <path d=\"M18.56 5.44l.94 2.06.94-2.06 2.06-.94-2.06-.94-.94-2.06-.94 2.06-2.06.94zm-11 1L8.5 8.5l.94-2.06 2.06-.94-2.06-.94L8.5 2.5l-.94 2.06-2.06.94zm10 10l.94 2.06.94-2.06 2.06-.94-2.06-.94-.94-2.06-.94 2.06-2.06.94z\"/><path d=\"M17.41 7.96l-1.37-1.37c-.4-.4-.92-.59-1.43-.59-.52 0-1.04.2-1.43.59L10.3 9.45l-7.72 7.72c-.78.78-.78 2.05 0 2.83L4 21.41c.39.39.9.59 1.41.59.51 0 1.02-.2 1.41-.59l7.78-7.78 2.81-2.81c.8-.78.8-2.07 0-2.86zM5.41 20L4 18.59l7.72-7.72 1.47 1.35L5.41 20z\"/>\n",
              "  </svg>\n",
              "      </button>\n",
              "      \n",
              "  <style>\n",
              "    .colab-df-container {\n",
              "      display:flex;\n",
              "      flex-wrap:wrap;\n",
              "      gap: 12px;\n",
              "    }\n",
              "\n",
              "    .colab-df-convert {\n",
              "      background-color: #E8F0FE;\n",
              "      border: none;\n",
              "      border-radius: 50%;\n",
              "      cursor: pointer;\n",
              "      display: none;\n",
              "      fill: #1967D2;\n",
              "      height: 32px;\n",
              "      padding: 0 0 0 0;\n",
              "      width: 32px;\n",
              "    }\n",
              "\n",
              "    .colab-df-convert:hover {\n",
              "      background-color: #E2EBFA;\n",
              "      box-shadow: 0px 1px 2px rgba(60, 64, 67, 0.3), 0px 1px 3px 1px rgba(60, 64, 67, 0.15);\n",
              "      fill: #174EA6;\n",
              "    }\n",
              "\n",
              "    [theme=dark] .colab-df-convert {\n",
              "      background-color: #3B4455;\n",
              "      fill: #D2E3FC;\n",
              "    }\n",
              "\n",
              "    [theme=dark] .colab-df-convert:hover {\n",
              "      background-color: #434B5C;\n",
              "      box-shadow: 0px 1px 3px 1px rgba(0, 0, 0, 0.15);\n",
              "      filter: drop-shadow(0px 1px 2px rgba(0, 0, 0, 0.3));\n",
              "      fill: #FFFFFF;\n",
              "    }\n",
              "  </style>\n",
              "\n",
              "      <script>\n",
              "        const buttonEl =\n",
              "          document.querySelector('#df-88a4bb0c-bb78-4842-8dc6-74c6cc9e175b button.colab-df-convert');\n",
              "        buttonEl.style.display =\n",
              "          google.colab.kernel.accessAllowed ? 'block' : 'none';\n",
              "\n",
              "        async function convertToInteractive(key) {\n",
              "          const element = document.querySelector('#df-88a4bb0c-bb78-4842-8dc6-74c6cc9e175b');\n",
              "          const dataTable =\n",
              "            await google.colab.kernel.invokeFunction('convertToInteractive',\n",
              "                                                     [key], {});\n",
              "          if (!dataTable) return;\n",
              "\n",
              "          const docLinkHtml = 'Like what you see? Visit the ' +\n",
              "            '<a target=\"_blank\" href=https://colab.research.google.com/notebooks/data_table.ipynb>data table notebook</a>'\n",
              "            + ' to learn more about interactive tables.';\n",
              "          element.innerHTML = '';\n",
              "          dataTable['output_type'] = 'display_data';\n",
              "          await google.colab.output.renderOutput(dataTable, element);\n",
              "          const docLink = document.createElement('div');\n",
              "          docLink.innerHTML = docLinkHtml;\n",
              "          element.appendChild(docLink);\n",
              "        }\n",
              "      </script>\n",
              "    </div>\n",
              "  </div>\n",
              "  "
            ]
          },
          "metadata": {},
          "execution_count": 104
        }
      ],
      "source": [
        "# Calculating different metrics on validation set\n",
        "xgboost_final_test = model_performance_classification_sklearn(xgb_final, X_test, y_test)\n",
        "print(\"Testing performance:\")\n",
        "xgboost_final_test"
      ]
    },
    {
      "cell_type": "code",
      "execution_count": null,
      "id": "7959b74d-3f6a-4f14-987d-4e05cbbd1cf4",
      "metadata": {
        "colab": {
          "base_uri": "https://localhost:8080/",
          "height": 279
        },
        "id": "7959b74d-3f6a-4f14-987d-4e05cbbd1cf4",
        "outputId": "e94b1eed-ed72-426f-f3f6-cf0d631bd9e4"
      },
      "outputs": [
        {
          "output_type": "display_data",
          "data": {
            "text/plain": [
              "<Figure size 432x288 with 2 Axes>"
            ],
            "image/png": "[encoded data removed]"
          },
          "metadata": {
            "needs_background": "light"
          }
        }
      ],
      "source": [
        "# creating confusion matrix\n",
        "confusion_matrix_sklearn(xgb_final, X_test, y_test)"
      ]
    },
    {
      "cell_type": "code",
      "execution_count": null,
      "id": "bd48fc95-6a69-4ad3-9cd8-c0b2f0a5ad76",
      "metadata": {
        "id": "bd48fc95-6a69-4ad3-9cd8-c0b2f0a5ad76"
      },
      "outputs": [],
      "source": []
    },
    {
      "cell_type": "markdown",
      "id": "2d92de6f-238a-4098-a1f2-c59f7c590c1a",
      "metadata": {
        "tags": [],
        "id": "2d92de6f-238a-4098-a1f2-c59f7c590c1a"
      },
      "source": [
        "# Submission"
      ]
    },
    {
      "cell_type": "markdown",
      "id": "ffdda93e-3d04-4889-84df-a378cfd3c234",
      "metadata": {
        "id": "ffdda93e-3d04-4889-84df-a378cfd3c234"
      },
      "source": [
        "###5. Making the first submission\n",
        "After improving the XGBoost model performance, let’s now see how the model performs on the competition test data set provided and how we rank on the competition leaderboard.\n",
        "\n",
        "First, we make predictions on the competition test data set."
      ]
    },
    {
      "cell_type": "code",
      "execution_count": null,
      "id": "c33097fc-2b2c-4397-ab1d-2a73aa184ccd",
      "metadata": {
        "id": "c33097fc-2b2c-4397-ab1d-2a73aa184ccd"
      },
      "outputs": [],
      "source": [
        "# Get the predicted result for the test Data\n",
        "test.Label = xgb_final.predict(processed_test)"
      ]
    },
    {
      "cell_type": "markdown",
      "id": "d1747c18-94e5-479b-9d3b-035d4043c90f",
      "metadata": {
        "id": "d1747c18-94e5-479b-9d3b-035d4043c90f"
      },
      "source": [
        "Then we create a submission file according to the instruction provided in the SubmissionFile.csv.\n"
      ]
    },
    {
      "cell_type": "code",
      "execution_count": null,
      "id": "ff7eb014-946a-4d8d-9076-c22fda8e665a",
      "metadata": {
        "id": "ff7eb014-946a-4d8d-9076-c22fda8e665a"
      },
      "outputs": [],
      "source": [
        "# Create submission DataFrame\n",
        "submission = pd.DataFrame({\"AccID\": test[\"AccID\"],\n",
        "                           \"Label\": test.Label})"
      ]
    },
    {
      "cell_type": "markdown",
      "id": "5f984888-c37b-41e1-ad93-e241b4cda5fa",
      "metadata": {
        "id": "5f984888-c37b-41e1-ad93-e241b4cda5fa"
      },
      "source": [
        "Let’s observe the sample results from our submission DataFrame.\n"
      ]
    },
    {
      "cell_type": "code",
      "execution_count": null,
      "id": "981e6eb3-ef49-46bb-9f11-686457545a28",
      "metadata": {
        "colab": {
          "base_uri": "https://localhost:8080/",
          "height": 206
        },
        "id": "981e6eb3-ef49-46bb-9f11-686457545a28",
        "outputId": "574e4602-6557-4c70-bbe8-fb74c2231179"
      },
      "outputs": [
        {
          "output_type": "execute_result",
          "data": {
            "text/plain": [
              "                                      AccID  Label\n",
              "26506  07a0a576-f18b-48c9-9365-afcdce968cff      1\n",
              "7484   d028620f-1571-4c53-ac6d-b3d243bbd166      0\n",
              "27450  3e882d95-fa7d-4c79-a845-f31bc63d440b      1\n",
              "1094   3f26b79a-a95f-4448-a583-a368b935d318      1\n",
              "13381  dcd50f68-4808-4e8c-8e81-f98f257ee3d5      0"
            ],
            "text/html": [
              "\n",
              "  <div id=\"df-dec7c1bc-9b29-4352-a422-d4b3708ebc81\">\n",
              "    <div class=\"colab-df-container\">\n",
              "      <div>\n",
              "<style scoped>\n",
              "    .dataframe tbody tr th:only-of-type {\n",
              "        vertical-align: middle;\n",
              "    }\n",
              "\n",
              "    .dataframe tbody tr th {\n",
              "        vertical-align: top;\n",
              "    }\n",
              "\n",
              "    .dataframe thead th {\n",
              "        text-align: right;\n",
              "    }\n",
              "</style>\n",
              "<table border=\"1\" class=\"dataframe\">\n",
              "  <thead>\n",
              "    <tr style=\"text-align: right;\">\n",
              "      <th></th>\n",
              "      <th>AccID</th>\n",
              "      <th>Label</th>\n",
              "    </tr>\n",
              "  </thead>\n",
              "  <tbody>\n",
              "    <tr>\n",
              "      <th>26506</th>\n",
              "      <td>07a0a576-f18b-48c9-9365-afcdce968cff</td>\n",
              "      <td>1</td>\n",
              "    </tr>\n",
              "    <tr>\n",
              "      <th>7484</th>\n",
              "      <td>d028620f-1571-4c53-ac6d-b3d243bbd166</td>\n",
              "      <td>0</td>\n",
              "    </tr>\n",
              "    <tr>\n",
              "      <th>27450</th>\n",
              "      <td>3e882d95-fa7d-4c79-a845-f31bc63d440b</td>\n",
              "      <td>1</td>\n",
              "    </tr>\n",
              "    <tr>\n",
              "      <th>1094</th>\n",
              "      <td>3f26b79a-a95f-4448-a583-a368b935d318</td>\n",
              "      <td>1</td>\n",
              "    </tr>\n",
              "    <tr>\n",
              "      <th>13381</th>\n",
              "      <td>dcd50f68-4808-4e8c-8e81-f98f257ee3d5</td>\n",
              "      <td>0</td>\n",
              "    </tr>\n",
              "  </tbody>\n",
              "</table>\n",
              "</div>\n",
              "      <button class=\"colab-df-convert\" onclick=\"convertToInteractive('df-dec7c1bc-9b29-4352-a422-d4b3708ebc81')\"\n",
              "              title=\"Convert this dataframe to an interactive table.\"\n",
              "              style=\"display:none;\">\n",
              "        \n",
              "  <svg xmlns=\"http://www.w3.org/2000/svg\" height=\"24px\"viewBox=\"0 0 24 24\"\n",
              "       width=\"24px\">\n",
              "    <path d=\"M0 0h24v24H0V0z\" fill=\"none\"/>\n",
              "    <path d=\"M18.56 5.44l.94 2.06.94-2.06 2.06-.94-2.06-.94-.94-2.06-.94 2.06-2.06.94zm-11 1L8.5 8.5l.94-2.06 2.06-.94-2.06-.94L8.5 2.5l-.94 2.06-2.06.94zm10 10l.94 2.06.94-2.06 2.06-.94-2.06-.94-.94-2.06-.94 2.06-2.06.94z\"/><path d=\"M17.41 7.96l-1.37-1.37c-.4-.4-.92-.59-1.43-.59-.52 0-1.04.2-1.43.59L10.3 9.45l-7.72 7.72c-.78.78-.78 2.05 0 2.83L4 21.41c.39.39.9.59 1.41.59.51 0 1.02-.2 1.41-.59l7.78-7.78 2.81-2.81c.8-.78.8-2.07 0-2.86zM5.41 20L4 18.59l7.72-7.72 1.47 1.35L5.41 20z\"/>\n",
              "  </svg>\n",
              "      </button>\n",
              "      \n",
              "  <style>\n",
              "    .colab-df-container {\n",
              "      display:flex;\n",
              "      flex-wrap:wrap;\n",
              "      gap: 12px;\n",
              "    }\n",
              "\n",
              "    .colab-df-convert {\n",
              "      background-color: #E8F0FE;\n",
              "      border: none;\n",
              "      border-radius: 50%;\n",
              "      cursor: pointer;\n",
              "      display: none;\n",
              "      fill: #1967D2;\n",
              "      height: 32px;\n",
              "      padding: 0 0 0 0;\n",
              "      width: 32px;\n",
              "    }\n",
              "\n",
              "    .colab-df-convert:hover {\n",
              "      background-color: #E2EBFA;\n",
              "      box-shadow: 0px 1px 2px rgba(60, 64, 67, 0.3), 0px 1px 3px 1px rgba(60, 64, 67, 0.15);\n",
              "      fill: #174EA6;\n",
              "    }\n",
              "\n",
              "    [theme=dark] .colab-df-convert {\n",
              "      background-color: #3B4455;\n",
              "      fill: #D2E3FC;\n",
              "    }\n",
              "\n",
              "    [theme=dark] .colab-df-convert:hover {\n",
              "      background-color: #434B5C;\n",
              "      box-shadow: 0px 1px 3px 1px rgba(0, 0, 0, 0.15);\n",
              "      filter: drop-shadow(0px 1px 2px rgba(0, 0, 0, 0.3));\n",
              "      fill: #FFFFFF;\n",
              "    }\n",
              "  </style>\n",
              "\n",
              "      <script>\n",
              "        const buttonEl =\n",
              "          document.querySelector('#df-dec7c1bc-9b29-4352-a422-d4b3708ebc81 button.colab-df-convert');\n",
              "        buttonEl.style.display =\n",
              "          google.colab.kernel.accessAllowed ? 'block' : 'none';\n",
              "\n",
              "        async function convertToInteractive(key) {\n",
              "          const element = document.querySelector('#df-dec7c1bc-9b29-4352-a422-d4b3708ebc81');\n",
              "          const dataTable =\n",
              "            await google.colab.kernel.invokeFunction('convertToInteractive',\n",
              "                                                     [key], {});\n",
              "          if (!dataTable) return;\n",
              "\n",
              "          const docLinkHtml = 'Like what you see? Visit the ' +\n",
              "            '<a target=\"_blank\" href=https://colab.research.google.com/notebooks/data_table.ipynb>data table notebook</a>'\n",
              "            + ' to learn more about interactive tables.';\n",
              "          element.innerHTML = '';\n",
              "          dataTable['output_type'] = 'display_data';\n",
              "          await google.colab.output.renderOutput(dataTable, element);\n",
              "          const docLink = document.createElement('div');\n",
              "          docLink.innerHTML = docLinkHtml;\n",
              "          element.appendChild(docLink);\n",
              "        }\n",
              "      </script>\n",
              "    </div>\n",
              "  </div>\n",
              "  "
            ]
          },
          "metadata": {},
          "execution_count": 101
        }
      ],
      "source": [
        "#show the five sample\n",
        "submission.sample(5)"
      ]
    },
    {
      "cell_type": "markdown",
      "id": "371602d1-1dd6-49fa-bcb7-41bf10c68bd0",
      "metadata": {
        "id": "371602d1-1dd6-49fa-bcb7-41bf10c68bd0"
      },
      "source": [
        "Save results in the CSV file.\n"
      ]
    },
    {
      "cell_type": "code",
      "execution_count": null,
      "id": "e43de72b-222f-400d-8980-9db2a93ea7cd",
      "metadata": {
        "colab": {
          "base_uri": "https://localhost:8080/"
        },
        "id": "e43de72b-222f-400d-8980-9db2a93ea7cd",
        "outputId": "e8dc419c-0432-4bb7-e6a2-22f9b675db6f"
      },
      "outputs": [
        {
          "output_type": "stream",
          "name": "stdout",
          "text": [
            "submission_075948.csv\n"
          ]
        }
      ],
      "source": [
        "# Create submission csv file csv file\n",
        "submission.to_csv('submission' + '_' + datetime.now().strftime(\"%H:%M:%S\").replace(\":\", \"\") + \".csv\", index = False)\n",
        "print('submission' + '_' + datetime.now().strftime(\"%H:%M:%S\").replace(\":\", \"\") + \".csv\")"
      ]
    }
  ],
  "metadata": {
    "kernelspec": {
      "display_name": "Python 3 (ipykernel)",
      "language": "python",
      "name": "python3"
    },
    "language_info": {
      "codemirror_mode": {
        "name": "ipython",
        "version": 3
      },
      "file_extension": ".py",
      "mimetype": "text/x-python",
      "name": "python",
      "nbconvert_exporter": "python",
      "pygments_lexer": "ipython3",
      "version": "3.9.7"
    },
    "colab": {
      "provenance": [],
      "collapsed_sections": [
        "41ee8bd4-4e73-4fc6-b227-c1998d61881e",
        "b7d2a916-61f8-49ed-bf3f-5f1b0e4cec3b",
        "10f2a017-ff92-4b59-97dc-8a10ba2afa50",
        "3c7130d7-1c90-419d-a2b6-f03c12a1b94d",
        "3820a247-b9d4-4110-bebe-4595ff0fcb3d",
        "475c93a2-d0fd-4f9b-aade-d3bba518723d",
        "841211f3-eb72-4d4a-8888-e6602bab1153",
        "6c943c10-204f-49a7-840b-e21d35cf8c96",
        "6aca48e3-5078-4693-ab7d-b7779ae94a3c",
        "1be11646-2e20-4793-8aab-754a7ea0cefe",
        "5f9a7cf9-1e0d-4468-851f-72f56555a90b",
        "38e6c56d-863f-4b73-a1fa-4329b0b9d968",
        "091f6ef0-1e2e-41ef-8cbd-efe3bb155d92",
        "f0363e37-863c-486d-a41d-0dbcdcd8a624",
        "7f099b0b-9e3d-4098-968e-c2f1406da24b",
        "d6941e0a-a6db-468f-81bd-e1e6412bc47b",
        "379e15c2-22ed-4f04-aa04-28eed6656f9e",
        "2c7342e3-1556-47bf-8649-53e2e10608ee",
        "7e65f323-bb39-4b52-8870-cccb9c546fc2",
        "211beacd-5271-4f52-b4fb-1228dc529fbc",
        "9f2900c9-2594-4848-bf89-f03577c72549",
        "3b235e1e-e342-439f-b9bb-1bac911718b8",
        "ffdda93e-3d04-4889-84df-a378cfd3c234"
      ],
      "include_colab_link": true
    }
  },
  "nbformat": 4,
  "nbformat_minor": 5
}